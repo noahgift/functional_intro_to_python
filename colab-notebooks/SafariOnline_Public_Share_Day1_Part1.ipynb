{
  "nbformat": 4,
  "nbformat_minor": 0,
  "metadata": {
    "colab": {
      "name": "SafariOnline-Public-Share-Day1-Part1.ipynb",
      "version": "0.3.2",
      "views": {},
      "default_view": {},
      "provenance": [
        {
          "file_id": "1GglwyEMcFMvYQSQ46pZTyTzVXzJHbft_",
          "timestamp": 1522634390221
        }
      ],
      "collapsed_sections": []
    },
    "kernelspec": {
      "name": "python3",
      "display_name": "Python 3"
    }
  },
  "cells": [
    {
      "metadata": {
        "id": "4J2lIggJLUMS",
        "colab_type": "text"
      },
      "cell_type": "markdown",
      "source": [
        "# **Essential Machine Learning and Exploratory Data Analysis with Python and Jupyter Notebook**"
      ]
    },
    {
      "metadata": {
        "id": "Pci2aotqPIME",
        "colab_type": "text"
      },
      "cell_type": "markdown",
      "source": [
        "## Jupyter Notebook\n",
        "\n",
        "Many flavors of Jupyter Notebook.  A few popular ones:\n",
        "\n",
        "### Hosted Commercial Flavors\n",
        "\n",
        "* [Google Colaboratory](https://colab.research.google.com/notebook)\n",
        "* [Kaggle](https://www.kaggle.com/)\n",
        "\n",
        "### Pure Open Source\n",
        "\n",
        "* [Jupyter](http://jupyter.org/) standalone, original\n",
        "* [JupyterHub](https://github.com/jupyterhub/jupyterhub) multi-user, docker friendly\n",
        "\n",
        "### Hybrid Solutions\n",
        "\n",
        "* Running Jupyter on [AWS Spot Instances](https://aws.amazon.com/ec2/spot/)\n",
        "* [Google Data Lab](https://cloud.google.com/datalab/)\n",
        "* [Azure Data Science Virtual Machines](https://azure.microsoft.com/en-us/services/virtual-machines/data-science-virtual-machines/)\n"
      ]
    },
    {
      "metadata": {
        "id": "HWKUOfEBUMLS",
        "colab_type": "text"
      },
      "cell_type": "markdown",
      "source": [
        "## Part 1: Introductory Concepts in Python and Functions Using Jupyter Notebook (180 minutes)"
      ]
    },
    {
      "metadata": {
        "id": "6HJtGuiKUYFU",
        "colab_type": "text"
      },
      "cell_type": "markdown",
      "source": [
        "### Introductory Concepts\n",
        "*  **Procedural Statements**\n",
        "*  Strings and String Formatting\n",
        "*  Numbers and Arithmetic Operations\n",
        "*  Data Structures\n",
        "\n"
      ]
    },
    {
      "metadata": {
        "id": "BwmnQEziVQ9k",
        "colab_type": "text"
      },
      "cell_type": "markdown",
      "source": [
        " #### Procedural Statements\n",
        " Procedural statements are literally statements that  can be issued one line at a time.  Below are types of procedural statements.  These statements can be run in:\n",
        " * Jupyter Notebook\n",
        " * IPython shell\n",
        " * Python interpreter\n",
        " * Python scripts"
      ]
    },
    {
      "metadata": {
        "id": "yTePE3imVqfP",
        "colab_type": "text"
      },
      "cell_type": "markdown",
      "source": [
        "**Printing**"
      ]
    },
    {
      "metadata": {
        "id": "n1r0n2V3Vs70",
        "colab_type": "code",
        "colab": {
          "autoexec": {
            "startup": false,
            "wait_interval": 0
          },
          "output_extras": [
            {}
          ],
          "base_uri": "https://localhost:8080/",
          "height": 34
        },
        "outputId": "6a18c2a5-c893-43f2-95cd-58e9990a9e66",
        "executionInfo": {
          "status": "ok",
          "timestamp": 1522605171067,
          "user_tz": 420,
          "elapsed": 511,
          "user": {
            "displayName": "Noah Gift",
            "photoUrl": "//lh4.googleusercontent.com/-dTIpOULZLNo/AAAAAAAAAAI/AAAAAAAAD-E/-bTXf7FrPe0/s50-c-k-no/photo.jpg",
            "userId": "114367115509726512575"
          }
        }
      },
      "cell_type": "code",
      "source": [
        "print(\"Hello world\")"
      ],
      "execution_count": 0,
      "outputs": [
        {
          "output_type": "stream",
          "text": [
            "Hello world\n"
          ],
          "name": "stdout"
        }
      ]
    },
    {
      "metadata": {
        "id": "8nUjNnApV6cC",
        "colab_type": "text"
      },
      "cell_type": "markdown",
      "source": [
        "**Create Variable and Use Variable**"
      ]
    },
    {
      "metadata": {
        "id": "mhjO2LpSVx9V",
        "colab_type": "code",
        "colab": {
          "autoexec": {
            "startup": false,
            "wait_interval": 0
          },
          "output_extras": [
            {}
          ],
          "base_uri": "https://localhost:8080/",
          "height": 34
        },
        "outputId": "fc5d18df-c08f-41bf-a47c-908267d6cb9e",
        "executionInfo": {
          "status": "ok",
          "timestamp": 1522605226222,
          "user_tz": 420,
          "elapsed": 497,
          "user": {
            "displayName": "Noah Gift",
            "photoUrl": "//lh4.googleusercontent.com/-dTIpOULZLNo/AAAAAAAAAAI/AAAAAAAAD-E/-bTXf7FrPe0/s50-c-k-no/photo.jpg",
            "userId": "114367115509726512575"
          }
        }
      },
      "cell_type": "code",
      "source": [
        "variable = \"armbar\"; print(variable)"
      ],
      "execution_count": 0,
      "outputs": [
        {
          "output_type": "stream",
          "text": [
            "armbar\n"
          ],
          "name": "stdout"
        }
      ]
    },
    {
      "metadata": {
        "id": "H004n8R-WDGF",
        "colab_type": "text"
      },
      "cell_type": "markdown",
      "source": [
        "**Multiple procedural statements**"
      ]
    },
    {
      "metadata": {
        "id": "xrZWZEFmV_bN",
        "colab_type": "code",
        "colab": {
          "autoexec": {
            "startup": false,
            "wait_interval": 0
          },
          "output_extras": [
            {}
          ],
          "base_uri": "https://localhost:8080/",
          "height": 51
        },
        "outputId": "b09e0c2f-3ffd-42cd-f9df-f9ada73bfbd0",
        "executionInfo": {
          "status": "ok",
          "timestamp": 1522605254852,
          "user_tz": 420,
          "elapsed": 342,
          "user": {
            "displayName": "Noah Gift",
            "photoUrl": "//lh4.googleusercontent.com/-dTIpOULZLNo/AAAAAAAAAAI/AAAAAAAAD-E/-bTXf7FrPe0/s50-c-k-no/photo.jpg",
            "userId": "114367115509726512575"
          }
        }
      },
      "cell_type": "code",
      "source": [
        "attack_one = \"kimura\"\n",
        "attack_two = \"arm triangle\"\n",
        "print(\"In Brazilian Jiu Jitsu a common attack is a:\", attack_one)\n",
        "print(\"Another common attack is a:\", attack_two)\n"
      ],
      "execution_count": 0,
      "outputs": [
        {
          "output_type": "stream",
          "text": [
            "In Brazilian Jiu Jitsu a common attack is a: kimura\n",
            "Another common attack is a: arm triangle\n"
          ],
          "name": "stdout"
        }
      ]
    },
    {
      "metadata": {
        "id": "6IiZ6RnLWKsq",
        "colab_type": "text"
      },
      "cell_type": "markdown",
      "source": [
        "**Adding Numbers**"
      ]
    },
    {
      "metadata": {
        "id": "h049FhlhWPRm",
        "colab_type": "code",
        "colab": {
          "autoexec": {
            "startup": false,
            "wait_interval": 0
          },
          "output_extras": [
            {}
          ],
          "base_uri": "https://localhost:8080/",
          "height": 34
        },
        "outputId": "6a0c7a05-71a8-4860-a970-156dfa54f7e6",
        "executionInfo": {
          "status": "ok",
          "timestamp": 1522605361218,
          "user_tz": 420,
          "elapsed": 326,
          "user": {
            "displayName": "Noah Gift",
            "photoUrl": "//lh4.googleusercontent.com/-dTIpOULZLNo/AAAAAAAAAAI/AAAAAAAAD-E/-bTXf7FrPe0/s50-c-k-no/photo.jpg",
            "userId": "114367115509726512575"
          }
        }
      },
      "cell_type": "code",
      "source": [
        "1+1"
      ],
      "execution_count": 0,
      "outputs": [
        {
          "output_type": "execute_result",
          "data": {
            "text/plain": [
              "2"
            ]
          },
          "metadata": {
            "tags": []
          },
          "execution_count": 4
        }
      ]
    },
    {
      "metadata": {
        "id": "mlszsN87WmcO",
        "colab_type": "text"
      },
      "cell_type": "markdown",
      "source": [
        "**Adding Phrases**"
      ]
    },
    {
      "metadata": {
        "id": "FaE5GnCaWgbI",
        "colab_type": "code",
        "colab": {
          "autoexec": {
            "startup": false,
            "wait_interval": 0
          },
          "output_extras": [
            {}
          ],
          "base_uri": "https://localhost:8080/",
          "height": 34
        },
        "outputId": "9473d571-0b4a-4988-98c8-f3d3e163d7cf",
        "executionInfo": {
          "status": "ok",
          "timestamp": 1522605565307,
          "user_tz": 420,
          "elapsed": 318,
          "user": {
            "displayName": "Noah Gift",
            "photoUrl": "//lh4.googleusercontent.com/-dTIpOULZLNo/AAAAAAAAAAI/AAAAAAAAD-E/-bTXf7FrPe0/s50-c-k-no/photo.jpg",
            "userId": "114367115509726512575"
          }
        }
      },
      "cell_type": "code",
      "source": [
        "\"arm\" + \"bar\"+\"4\"+\"morestuff\""
      ],
      "execution_count": 0,
      "outputs": [
        {
          "output_type": "execute_result",
          "data": {
            "text/plain": [
              "'armbar4morestuff'"
            ]
          },
          "metadata": {
            "tags": []
          },
          "execution_count": 5
        }
      ]
    },
    {
      "metadata": {
        "id": "WSrfrIO1XYts",
        "colab_type": "text"
      },
      "cell_type": "markdown",
      "source": [
        "**Complex statements**\n",
        "\n",
        "More complex statements can be created that use data structures like the belts variable, which is a list."
      ]
    },
    {
      "metadata": {
        "id": "0nf0W0e3XSQS",
        "colab_type": "code",
        "colab": {
          "autoexec": {
            "startup": false,
            "wait_interval": 0
          },
          "output_extras": [
            {}
          ],
          "base_uri": "https://localhost:8080/",
          "height": 102
        },
        "outputId": "4842df69-a623-419e-e41f-4f499149137c",
        "executionInfo": {
          "status": "ok",
          "timestamp": 1522605601454,
          "user_tz": 420,
          "elapsed": 319,
          "user": {
            "displayName": "Noah Gift",
            "photoUrl": "//lh4.googleusercontent.com/-dTIpOULZLNo/AAAAAAAAAAI/AAAAAAAAD-E/-bTXf7FrPe0/s50-c-k-no/photo.jpg",
            "userId": "114367115509726512575"
          }
        }
      },
      "cell_type": "code",
      "source": [
        "belts = [\"white\", \"blue\", \"purple\", \"brown\", \"black\"]\n",
        "for belt in belts:\n",
        "    if \"black\" in belt:\n",
        "        print(\"The belt I want to be is:\", belt)\n",
        "    else:\n",
        "        print(\"This is not the belt I want to end up at:\", belt)"
      ],
      "execution_count": 0,
      "outputs": [
        {
          "output_type": "stream",
          "text": [
            "This is not the belt I want to end up at: white\n",
            "This is not the belt I want to end up at: blue\n",
            "This is not the belt I want to end up at: purple\n",
            "This is not the belt I want to end up at: brown\n",
            "The belt I want to be is: black\n"
          ],
          "name": "stdout"
        }
      ]
    },
    {
      "metadata": {
        "id": "UYzPEDtnXlbx",
        "colab_type": "text"
      },
      "cell_type": "markdown",
      "source": [
        "#### Strings and String Formatting\n",
        "\n",
        "Strings are a sequence of characters and they are often programmatically formatted.  Almost all Python programs have strings because they can be used to send messages to users who use the program.  When creating strings there are few core concepts to understand:\n",
        "\n",
        "* Strings can be create with the single, double and triple/double quotes\n",
        "* Strings are can be formatted\n",
        "* One complication of strings is they can be encoded in several formats including unicode\n",
        "* Many methods are available to operate on strings.  In an editor or IPython shell you can see these methods by tab completion: \n",
        "```\n",
        "basic_string.\n",
        "            capitalize()   format()       islower()      lower()        rpartition()   title()         \n",
        "            casefold()     format_map()   isnumeric()    lstrip()       rsplit()       translate()     \n",
        "            center()       index()        isprintable()  maketrans()    rstrip()       upper()         \n",
        "            count()        isalnum()      isspace()      partition()    split()        zfill()         \n",
        "            encode()       isalpha()      istitle()      replace()      splitlines()                  \n",
        "            endswith()     isdecimal()    isupper()      rfind()        startswith()                  \n",
        "            expandtabs()   isdigit()      join()         rindex()       strip()                       \n",
        "            find()         isidentifier() ljust()        rjust()        swapcase()        \n",
        "```"
      ]
    },
    {
      "metadata": {
        "id": "eHJX2ZFiXbFC",
        "colab_type": "code",
        "colab": {
          "autoexec": {
            "startup": false,
            "wait_interval": 0
          },
          "output_extras": [
            {}
          ],
          "base_uri": "https://localhost:8080/",
          "height": 34
        },
        "outputId": "61d7f680-db1a-4881-ff97-c032fa711fe1",
        "executionInfo": {
          "status": "ok",
          "timestamp": 1522605753143,
          "user_tz": 420,
          "elapsed": 320,
          "user": {
            "displayName": "Noah Gift",
            "photoUrl": "//lh4.googleusercontent.com/-dTIpOULZLNo/AAAAAAAAAAI/AAAAAAAAD-E/-bTXf7FrPe0/s50-c-k-no/photo.jpg",
            "userId": "114367115509726512575"
          }
        }
      },
      "cell_type": "code",
      "source": [
        "my_string = \"this is a string I am using\"\n",
        "my_string"
      ],
      "execution_count": 0,
      "outputs": [
        {
          "output_type": "execute_result",
          "data": {
            "text/plain": [
              "'this is a string I am using'"
            ]
          },
          "metadata": {
            "tags": []
          },
          "execution_count": 8
        }
      ]
    },
    {
      "metadata": {
        "id": "8afQjS25YDvQ",
        "colab_type": "text"
      },
      "cell_type": "markdown",
      "source": [
        "**Basic String**"
      ]
    },
    {
      "metadata": {
        "id": "yfhfvyIpX-pc",
        "colab_type": "code",
        "colab": {
          "autoexec": {
            "startup": false,
            "wait_interval": 0
          }
        }
      },
      "cell_type": "code",
      "source": [
        "basic_string = \"Brazilian Jiu Jitsu\""
      ],
      "execution_count": 0,
      "outputs": []
    },
    {
      "metadata": {
        "id": "GMYqc-cKYJlL",
        "colab_type": "text"
      },
      "cell_type": "markdown",
      "source": [
        "**Splitting String**\n",
        "\n",
        "Turn a string in a list by splitting on spaces, or some other thing"
      ]
    },
    {
      "metadata": {
        "id": "eJaoPyTzYGSk",
        "colab_type": "code",
        "colab": {
          "autoexec": {
            "startup": false,
            "wait_interval": 0
          },
          "output_extras": [
            {}
          ],
          "base_uri": "https://localhost:8080/",
          "height": 34
        },
        "outputId": "5718fff5-5aa4-4dd4-fb47-412019f66e45",
        "executionInfo": {
          "status": "ok",
          "timestamp": 1522606109127,
          "user_tz": 420,
          "elapsed": 319,
          "user": {
            "displayName": "Noah Gift",
            "photoUrl": "//lh4.googleusercontent.com/-dTIpOULZLNo/AAAAAAAAAAI/AAAAAAAAD-E/-bTXf7FrPe0/s50-c-k-no/photo.jpg",
            "userId": "114367115509726512575"
          }
        }
      },
      "cell_type": "code",
      "source": [
        "#split on spaces (default)\n",
        "basic_string.split()"
      ],
      "execution_count": 0,
      "outputs": [
        {
          "output_type": "execute_result",
          "data": {
            "text/plain": [
              "['Brazilian', 'Jiu', 'Jitsu']"
            ]
          },
          "metadata": {
            "tags": []
          },
          "execution_count": 11
        }
      ]
    },
    {
      "metadata": {
        "id": "z94Ajl0NZXBP",
        "colab_type": "code",
        "colab": {
          "autoexec": {
            "startup": false,
            "wait_interval": 0
          },
          "output_extras": [
            {}
          ],
          "base_uri": "https://localhost:8080/",
          "height": 34
        },
        "outputId": "bf6684d7-f41a-47bc-b3a3-f710cb028210",
        "executionInfo": {
          "status": "ok",
          "timestamp": 1522606118761,
          "user_tz": 420,
          "elapsed": 559,
          "user": {
            "displayName": "Noah Gift",
            "photoUrl": "//lh4.googleusercontent.com/-dTIpOULZLNo/AAAAAAAAAAI/AAAAAAAAD-E/-bTXf7FrPe0/s50-c-k-no/photo.jpg",
            "userId": "114367115509726512575"
          }
        }
      },
      "cell_type": "code",
      "source": [
        "#split on hyphen\n",
        "string_with_hyphen = \"Brazilian-Jiu-Jitsu\"\n",
        "string_with_hyphen.split(\"-\")"
      ],
      "execution_count": 0,
      "outputs": [
        {
          "output_type": "execute_result",
          "data": {
            "text/plain": [
              "['Brazilian', 'Jiu', 'Jitsu']"
            ]
          },
          "metadata": {
            "tags": []
          },
          "execution_count": 12
        }
      ]
    },
    {
      "metadata": {
        "id": "Ti9hySuGZbbX",
        "colab_type": "text"
      },
      "cell_type": "markdown",
      "source": [
        "**All Capital**\n",
        "\n",
        "Turn a string into all Capital Letter"
      ]
    },
    {
      "metadata": {
        "id": "y2NEPM8PZZT_",
        "colab_type": "code",
        "colab": {
          "autoexec": {
            "startup": false,
            "wait_interval": 0
          },
          "output_extras": [
            {}
          ],
          "base_uri": "https://localhost:8080/",
          "height": 34
        },
        "outputId": "0573e2a4-f1af-4532-d659-41749615a699",
        "executionInfo": {
          "status": "ok",
          "timestamp": 1522606153417,
          "user_tz": 420,
          "elapsed": 328,
          "user": {
            "displayName": "Noah Gift",
            "photoUrl": "//lh4.googleusercontent.com/-dTIpOULZLNo/AAAAAAAAAAI/AAAAAAAAD-E/-bTXf7FrPe0/s50-c-k-no/photo.jpg",
            "userId": "114367115509726512575"
          }
        }
      },
      "cell_type": "code",
      "source": [
        "basic_string.upper()"
      ],
      "execution_count": 0,
      "outputs": [
        {
          "output_type": "execute_result",
          "data": {
            "text/plain": [
              "'BRAZILIAN JIU JITSU'"
            ]
          },
          "metadata": {
            "tags": []
          },
          "execution_count": 13
        }
      ]
    },
    {
      "metadata": {
        "id": "ZlifO6c4Zk5W",
        "colab_type": "text"
      },
      "cell_type": "markdown",
      "source": [
        "**Slicing Strings**\n",
        "\n",
        "Strings can be referenced by length and sliced"
      ]
    },
    {
      "metadata": {
        "id": "tBXlXz0TZh1Q",
        "colab_type": "code",
        "colab": {
          "autoexec": {
            "startup": false,
            "wait_interval": 0
          },
          "output_extras": [
            {}
          ],
          "base_uri": "https://localhost:8080/",
          "height": 34
        },
        "outputId": "dfea33fb-83e7-42ec-9fa3-e7acfde75196",
        "executionInfo": {
          "status": "ok",
          "timestamp": 1522606200327,
          "user_tz": 420,
          "elapsed": 483,
          "user": {
            "displayName": "Noah Gift",
            "photoUrl": "//lh4.googleusercontent.com/-dTIpOULZLNo/AAAAAAAAAAI/AAAAAAAAD-E/-bTXf7FrPe0/s50-c-k-no/photo.jpg",
            "userId": "114367115509726512575"
          }
        }
      },
      "cell_type": "code",
      "source": [
        "#Get first two characters\n",
        "basic_string[:2]"
      ],
      "execution_count": 0,
      "outputs": [
        {
          "output_type": "execute_result",
          "data": {
            "text/plain": [
              "'Br'"
            ]
          },
          "metadata": {
            "tags": []
          },
          "execution_count": 14
        }
      ]
    },
    {
      "metadata": {
        "id": "EhgFdziaZtPv",
        "colab_type": "code",
        "colab": {
          "autoexec": {
            "startup": false,
            "wait_interval": 0
          },
          "output_extras": [
            {}
          ],
          "base_uri": "https://localhost:8080/",
          "height": 34
        },
        "outputId": "623c0108-a584-4515-ea25-c23844645719",
        "executionInfo": {
          "status": "ok",
          "timestamp": 1522606208194,
          "user_tz": 420,
          "elapsed": 317,
          "user": {
            "displayName": "Noah Gift",
            "photoUrl": "//lh4.googleusercontent.com/-dTIpOULZLNo/AAAAAAAAAAI/AAAAAAAAD-E/-bTXf7FrPe0/s50-c-k-no/photo.jpg",
            "userId": "114367115509726512575"
          }
        }
      },
      "cell_type": "code",
      "source": [
        "#Get length of string\n",
        "len(basic_string)"
      ],
      "execution_count": 0,
      "outputs": [
        {
          "output_type": "execute_result",
          "data": {
            "text/plain": [
              "19"
            ]
          },
          "metadata": {
            "tags": []
          },
          "execution_count": 15
        }
      ]
    },
    {
      "metadata": {
        "id": "lxvtolozZy1f",
        "colab_type": "text"
      },
      "cell_type": "markdown",
      "source": [
        "**Strings Can Be Added Together**"
      ]
    },
    {
      "metadata": {
        "id": "eIVgqMsRZvNQ",
        "colab_type": "code",
        "colab": {
          "autoexec": {
            "startup": false,
            "wait_interval": 0
          },
          "output_extras": [
            {}
          ],
          "base_uri": "https://localhost:8080/",
          "height": 34
        },
        "outputId": "d200e55a-f506-4c97-c0c6-e5790b3084f6",
        "executionInfo": {
          "status": "ok",
          "timestamp": 1522606234569,
          "user_tz": 420,
          "elapsed": 542,
          "user": {
            "displayName": "Noah Gift",
            "photoUrl": "//lh4.googleusercontent.com/-dTIpOULZLNo/AAAAAAAAAAI/AAAAAAAAD-E/-bTXf7FrPe0/s50-c-k-no/photo.jpg",
            "userId": "114367115509726512575"
          }
        }
      },
      "cell_type": "code",
      "source": [
        "basic_string + \" is my favorite Martial Art\""
      ],
      "execution_count": 0,
      "outputs": [
        {
          "output_type": "execute_result",
          "data": {
            "text/plain": [
              "'Brazilian Jiu Jitsu is my favorite Martial Art'"
            ]
          },
          "metadata": {
            "tags": []
          },
          "execution_count": 16
        }
      ]
    },
    {
      "metadata": {
        "id": "nNYxshNHZ6O8",
        "colab_type": "text"
      },
      "cell_type": "markdown",
      "source": [
        "**Strings Can Be Formatted in More Complex Ways**\n",
        "\n",
        "One of the best ways to format a string in modern Python 3 is to use f-strings"
      ]
    },
    {
      "metadata": {
        "id": "u_NAcD5sZ1l4",
        "colab_type": "code",
        "colab": {
          "autoexec": {
            "startup": false,
            "wait_interval": 0
          },
          "output_extras": [
            {}
          ],
          "base_uri": "https://localhost:8080/",
          "height": 34
        },
        "outputId": "7c70e01c-239a-4021-c894-26a0227ad0cf",
        "executionInfo": {
          "status": "ok",
          "timestamp": 1522606620600,
          "user_tz": 420,
          "elapsed": 346,
          "user": {
            "displayName": "Noah Gift",
            "photoUrl": "//lh4.googleusercontent.com/-dTIpOULZLNo/AAAAAAAAAAI/AAAAAAAAD-E/-bTXf7FrPe0/s50-c-k-no/photo.jpg",
            "userId": "114367115509726512575"
          }
        }
      },
      "cell_type": "code",
      "source": [
        "f'I love practicing my favorite Martial Art, {basic_string}'"
      ],
      "execution_count": 0,
      "outputs": [
        {
          "output_type": "execute_result",
          "data": {
            "text/plain": [
              "'I love practicing my favorite Martial Art, Brazilian Jiu Jitsu'"
            ]
          },
          "metadata": {
            "tags": []
          },
          "execution_count": 17
        }
      ]
    },
    {
      "metadata": {
        "id": "wlpMuwdmbui0",
        "colab_type": "text"
      },
      "cell_type": "markdown",
      "source": [
        "**Strings Can Use Triple Quotes to Wrap**"
      ]
    },
    {
      "metadata": {
        "id": "YWmNAWzqbT4k",
        "colab_type": "code",
        "colab": {
          "autoexec": {
            "startup": false,
            "wait_interval": 0
          },
          "output_extras": [
            {}
          ],
          "base_uri": "https://localhost:8080/",
          "height": 54
        },
        "outputId": "f0312224-3e75-495c-fa08-a24bb0fff1f5",
        "executionInfo": {
          "status": "ok",
          "timestamp": 1522606751577,
          "user_tz": 420,
          "elapsed": 349,
          "user": {
            "displayName": "Noah Gift",
            "photoUrl": "//lh4.googleusercontent.com/-dTIpOULZLNo/AAAAAAAAAAI/AAAAAAAAD-E/-bTXf7FrPe0/s50-c-k-no/photo.jpg",
            "userId": "114367115509726512575"
          }
        }
      },
      "cell_type": "code",
      "source": [
        "f\"\"\"\n",
        "This phrase is multiple sentences long.\n",
        "This phrase can be formatted like simpler sentences,\n",
        "for example, I can still talk about my favorite Martial Art {basic_string}\n",
        "\"\"\""
      ],
      "execution_count": 0,
      "outputs": [
        {
          "output_type": "execute_result",
          "data": {
            "text/plain": [
              "'\\nThis phrase is multiple sentences long.\\nThere phrase can be formatted like simpler sentences,\\nfor example, I can still talk about my favorite Martial Art Brazilian Jiu Jitsu\\n'"
            ]
          },
          "metadata": {
            "tags": []
          },
          "execution_count": 18
        }
      ]
    },
    {
      "metadata": {
        "id": "mBuMTMQWb239",
        "colab_type": "text"
      },
      "cell_type": "markdown",
      "source": [
        "**Line Breaks Can Be Removed with Replace**\n",
        "\n",
        "The last long line contained line breaks, which are the **\\n** character, and they can be removed by using the replace method"
      ]
    },
    {
      "metadata": {
        "id": "K8AVf6Pibz3H",
        "colab_type": "code",
        "colab": {
          "autoexec": {
            "startup": false,
            "wait_interval": 0
          },
          "output_extras": [
            {}
          ],
          "base_uri": "https://localhost:8080/",
          "height": 54
        },
        "outputId": "c7d284a7-f913-4489-bff6-a491c364dbac",
        "executionInfo": {
          "status": "ok",
          "timestamp": 1522606780724,
          "user_tz": 420,
          "elapsed": 316,
          "user": {
            "displayName": "Noah Gift",
            "photoUrl": "//lh4.googleusercontent.com/-dTIpOULZLNo/AAAAAAAAAAI/AAAAAAAAD-E/-bTXf7FrPe0/s50-c-k-no/photo.jpg",
            "userId": "114367115509726512575"
          }
        }
      },
      "cell_type": "code",
      "source": [
        "f\"\"\"\n",
        "This phrase is multiple sentenances long.\n",
        "There phrase can be formatted like simpler sentences,\n",
        "for example, I can still talk about my favorite Martial Art {basic_string}\n",
        "\"\"\".replace(\"\\n\", \"\")"
      ],
      "execution_count": 0,
      "outputs": [
        {
          "output_type": "execute_result",
          "data": {
            "text/plain": [
              "'This phrase is multiple sentences long.There phrase can be formatted like simpler sentences,for example, I can still talk about my favorite Martial Art Brazilian Jiu Jitsu'"
            ]
          },
          "metadata": {
            "tags": []
          },
          "execution_count": 19
        }
      ]
    },
    {
      "metadata": {
        "id": "eRmipgSocZ9i",
        "colab_type": "text"
      },
      "cell_type": "markdown",
      "source": [
        "#### Numbers and Arithmetic Operations\n",
        "\n",
        "Python is also a built-in calculator. Without installing any additional libraries it can do many simple and complex arithmetic operations."
      ]
    },
    {
      "metadata": {
        "id": "xd6LxgEXcgP8",
        "colab_type": "text"
      },
      "cell_type": "markdown",
      "source": [
        "**Adding and Subtracting Numbers**"
      ]
    },
    {
      "metadata": {
        "id": "mKwZGBoMb6_A",
        "colab_type": "code",
        "colab": {
          "autoexec": {
            "startup": false,
            "wait_interval": 0
          },
          "output_extras": [
            {}
          ],
          "base_uri": "https://localhost:8080/",
          "height": 34
        },
        "outputId": "3bb3fa57-c655-449e-bc9c-3af954c95fd4",
        "executionInfo": {
          "status": "ok",
          "timestamp": 1522606943082,
          "user_tz": 420,
          "elapsed": 325,
          "user": {
            "displayName": "Noah Gift",
            "photoUrl": "//lh4.googleusercontent.com/-dTIpOULZLNo/AAAAAAAAAAI/AAAAAAAAD-E/-bTXf7FrPe0/s50-c-k-no/photo.jpg",
            "userId": "114367115509726512575"
          }
        }
      },
      "cell_type": "code",
      "source": [
        "steps = (1+1)-1\n",
        "print(f\"Two Steps Forward:  One Step Back = {steps}\")"
      ],
      "execution_count": 0,
      "outputs": [
        {
          "output_type": "stream",
          "text": [
            "Two Steps Forward:  One Step Back = 1\n"
          ],
          "name": "stdout"
        }
      ]
    },
    {
      "metadata": {
        "id": "nMKS0ZYkdjvp",
        "colab_type": "text"
      },
      "cell_type": "markdown",
      "source": [
        "**Multiplication with Decimals**"
      ]
    },
    {
      "metadata": {
        "id": "Xgrw0LDucinh",
        "colab_type": "code",
        "colab": {
          "autoexec": {
            "startup": false,
            "wait_interval": 0
          },
          "output_extras": [
            {}
          ],
          "base_uri": "https://localhost:8080/",
          "height": 34
        },
        "outputId": "fe3370c3-e383-4878-b9e6-68f61b8470df",
        "executionInfo": {
          "status": "ok",
          "timestamp": 1522607219193,
          "user_tz": 420,
          "elapsed": 324,
          "user": {
            "displayName": "Noah Gift",
            "photoUrl": "//lh4.googleusercontent.com/-dTIpOULZLNo/AAAAAAAAAAI/AAAAAAAAD-E/-bTXf7FrPe0/s50-c-k-no/photo.jpg",
            "userId": "114367115509726512575"
          }
        }
      },
      "cell_type": "code",
      "source": [
        "body_fat_percentage = 0.10\n",
        "weight = 200\n",
        "fat_total = body_fat_percentage * weight\n",
        "print(f\"I weight 200lbs, and {fat_total}lbs of that is fat\")"
      ],
      "execution_count": 0,
      "outputs": [
        {
          "output_type": "stream",
          "text": [
            "I weight 200lbs, and 20.0lbs of that is fat\n"
          ],
          "name": "stdout"
        }
      ]
    },
    {
      "metadata": {
        "id": "f1_B6OUrdxlU",
        "colab_type": "text"
      },
      "cell_type": "markdown",
      "source": [
        "**Using Exponents**\n",
        "\n",
        "Using the math library it is straightforward to call 2 to the 3rd power"
      ]
    },
    {
      "metadata": {
        "id": "Q2oC1HVhdmB9",
        "colab_type": "code",
        "colab": {
          "autoexec": {
            "startup": false,
            "wait_interval": 0
          },
          "output_extras": [
            {}
          ],
          "base_uri": "https://localhost:8080/",
          "height": 34
        },
        "outputId": "f5113c26-2fab-4937-c8c7-a0563d829e13",
        "executionInfo": {
          "status": "ok",
          "timestamp": 1522607288048,
          "user_tz": 420,
          "elapsed": 313,
          "user": {
            "displayName": "Noah Gift",
            "photoUrl": "//lh4.googleusercontent.com/-dTIpOULZLNo/AAAAAAAAAAI/AAAAAAAAD-E/-bTXf7FrPe0/s50-c-k-no/photo.jpg",
            "userId": "114367115509726512575"
          }
        }
      },
      "cell_type": "code",
      "source": [
        "import math\n",
        "math.pow(2,3)"
      ],
      "execution_count": 0,
      "outputs": [
        {
          "output_type": "execute_result",
          "data": {
            "text/plain": [
              "8.0"
            ]
          },
          "metadata": {
            "tags": []
          },
          "execution_count": 22
        }
      ]
    },
    {
      "metadata": {
        "id": "P6gOf9qtd6Nt",
        "colab_type": "text"
      },
      "cell_type": "markdown",
      "source": [
        "**Converting Between different numerical types**\n",
        "\n",
        "There are many numerical forms to be aware of in Python.\n",
        "A couple of the most common are:\n",
        "\n",
        "* Integers\n",
        "* Floats"
      ]
    },
    {
      "metadata": {
        "id": "XCWg7yX-d210",
        "colab_type": "code",
        "colab": {
          "autoexec": {
            "startup": false,
            "wait_interval": 0
          },
          "output_extras": [
            {}
          ],
          "base_uri": "https://localhost:8080/",
          "height": 34
        },
        "outputId": "211a5f2f-ee47-4f82-8c23-1a130bc1a4db",
        "executionInfo": {
          "status": "ok",
          "timestamp": 1522607328880,
          "user_tz": 420,
          "elapsed": 332,
          "user": {
            "displayName": "Noah Gift",
            "photoUrl": "//lh4.googleusercontent.com/-dTIpOULZLNo/AAAAAAAAAAI/AAAAAAAAD-E/-bTXf7FrPe0/s50-c-k-no/photo.jpg",
            "userId": "114367115509726512575"
          }
        }
      },
      "cell_type": "code",
      "source": [
        "number = 100\n",
        "num_type = type(number).__name__\n",
        "print(f\"{number} is type [{num_type}]\")"
      ],
      "execution_count": 0,
      "outputs": [
        {
          "output_type": "stream",
          "text": [
            "100 is type [int]\n"
          ],
          "name": "stdout"
        }
      ]
    },
    {
      "metadata": {
        "id": "iW2f1Ik7eAzd",
        "colab_type": "code",
        "colab": {
          "autoexec": {
            "startup": false,
            "wait_interval": 0
          },
          "output_extras": [
            {}
          ],
          "base_uri": "https://localhost:8080/",
          "height": 34
        },
        "outputId": "ef3862b6-a523-44bd-c88f-75db3c49418c",
        "executionInfo": {
          "status": "ok",
          "timestamp": 1522607336831,
          "user_tz": 420,
          "elapsed": 214,
          "user": {
            "displayName": "Noah Gift",
            "photoUrl": "//lh4.googleusercontent.com/-dTIpOULZLNo/AAAAAAAAAAI/AAAAAAAAD-E/-bTXf7FrPe0/s50-c-k-no/photo.jpg",
            "userId": "114367115509726512575"
          }
        }
      },
      "cell_type": "code",
      "source": [
        "number = float(100)\n",
        "num_type = type(number).__name__\n",
        "print(f\"{number} is type [{num_type}]\")"
      ],
      "execution_count": 0,
      "outputs": [
        {
          "output_type": "stream",
          "text": [
            "100.0 is type [float]\n"
          ],
          "name": "stdout"
        }
      ]
    },
    {
      "metadata": {
        "id": "MrrFXb99gQ1Z",
        "colab_type": "text"
      },
      "cell_type": "markdown",
      "source": [
        "**Numbers can also be rounded**"
      ]
    },
    {
      "metadata": {
        "id": "Wjtnfol2iZDL",
        "colab_type": "code",
        "colab": {
          "autoexec": {
            "startup": false,
            "wait_interval": 0
          },
          "output_extras": [
            {}
          ],
          "base_uri": "https://localhost:8080/",
          "height": 34
        },
        "outputId": "60790e60-e7f6-492c-a009-f43bc5afe5a1",
        "executionInfo": {
          "status": "ok",
          "timestamp": 1522608478836,
          "user_tz": 420,
          "elapsed": 325,
          "user": {
            "displayName": "Noah Gift",
            "photoUrl": "//lh4.googleusercontent.com/-dTIpOULZLNo/AAAAAAAAAAI/AAAAAAAAD-E/-bTXf7FrPe0/s50-c-k-no/photo.jpg",
            "userId": "114367115509726512575"
          }
        }
      },
      "cell_type": "code",
      "source": [
        "too_many_decimals = 1.912345897\n",
        "round(too_many_decimals, 2)"
      ],
      "execution_count": 0,
      "outputs": [
        {
          "output_type": "execute_result",
          "data": {
            "text/plain": [
              "1.91"
            ]
          },
          "metadata": {
            "tags": []
          },
          "execution_count": 25
        }
      ]
    },
    {
      "metadata": {
        "id": "CuJ2OPSZiewO",
        "colab_type": "text"
      },
      "cell_type": "markdown",
      "source": [
        "#### Data Structures\n",
        "Python has a couple of core Data Structures that are used very frequently\n",
        "\n",
        "* Lists\n",
        "* Dictionaries\n",
        "\n",
        "Dictionaries and lists are the real workhorses of Python, but there are also other Data Structers like tuples, sets, Counters, etc, that are worth exploring too."
      ]
    },
    {
      "metadata": {
        "id": "IEi6YTS2iZj7",
        "colab_type": "code",
        "colab": {
          "autoexec": {
            "startup": false,
            "wait_interval": 0
          }
        }
      },
      "cell_type": "code",
      "source": [
        "submissions = {\"armbar\": \"upper_body\", \n",
        "               \"arm_triangle\": \"upper_body\", \n",
        "               \"heel_hook\": \"lower_body\", \n",
        "               \"knee_bar\": \"lower_body\"}"
      ],
      "execution_count": 0,
      "outputs": []
    },
    {
      "metadata": {
        "id": "4guKbqgfink8",
        "colab_type": "code",
        "colab": {
          "autoexec": {
            "startup": false,
            "wait_interval": 0
          },
          "output_extras": [
            {}
          ],
          "base_uri": "https://localhost:8080/",
          "height": 34
        },
        "outputId": "bac7f14e-d086-4efb-f0ea-e9d9bff721c9",
        "executionInfo": {
          "status": "ok",
          "timestamp": 1522608603581,
          "user_tz": 420,
          "elapsed": 341,
          "user": {
            "displayName": "Noah Gift",
            "photoUrl": "//lh4.googleusercontent.com/-dTIpOULZLNo/AAAAAAAAAAI/AAAAAAAAD-E/-bTXf7FrPe0/s50-c-k-no/photo.jpg",
            "userId": "114367115509726512575"
          }
        }
      },
      "cell_type": "code",
      "source": [
        "new_dict ={\"upper_body\":\"lower_body\"}\n",
        "new_dict"
      ],
      "execution_count": 0,
      "outputs": [
        {
          "output_type": "execute_result",
          "data": {
            "text/plain": [
              "{'upper_body': 'lower_body'}"
            ]
          },
          "metadata": {
            "tags": []
          },
          "execution_count": 27
        }
      ]
    },
    {
      "metadata": {
        "id": "TjNRS-YOjYxw",
        "colab_type": "text"
      },
      "cell_type": "markdown",
      "source": [
        "A common dictionary pattern is to iterate on a dictionary by using the items method. In the example below the key and the value are printed:"
      ]
    },
    {
      "metadata": {
        "id": "kW1UR_yMi5bl",
        "colab_type": "code",
        "colab": {
          "autoexec": {
            "startup": false,
            "wait_interval": 0
          },
          "output_extras": [
            {}
          ],
          "base_uri": "https://localhost:8080/",
          "height": 85
        },
        "outputId": "54b2a200-12d3-4b10-fbd4-8d2ea8227fc0",
        "executionInfo": {
          "status": "ok",
          "timestamp": 1522608754435,
          "user_tz": 420,
          "elapsed": 325,
          "user": {
            "displayName": "Noah Gift",
            "photoUrl": "//lh4.googleusercontent.com/-dTIpOULZLNo/AAAAAAAAAAI/AAAAAAAAD-E/-bTXf7FrPe0/s50-c-k-no/photo.jpg",
            "userId": "114367115509726512575"
          }
        }
      },
      "cell_type": "code",
      "source": [
        "for submission, body_part in submissions.items():\n",
        "    print(f\"The {submission} is an attack on the {body_part}\")"
      ],
      "execution_count": 0,
      "outputs": [
        {
          "output_type": "stream",
          "text": [
            "The armbar is an attack on the upper_body\n",
            "The arm_triangle is an attack on the upper_body\n",
            "The heel_hook is an attack on the lower_body\n",
            "The knee_bar is an attack on the lower_body\n"
          ],
          "name": "stdout"
        }
      ]
    },
    {
      "metadata": {
        "id": "5cue3xbzjfhF",
        "colab_type": "text"
      },
      "cell_type": "markdown",
      "source": [
        "Dictionaries can also be used to filter.  In the example below, only the submission attacks on the upper body are displayed:"
      ]
    },
    {
      "metadata": {
        "id": "buIoEo_Ajc1-",
        "colab_type": "code",
        "colab": {
          "autoexec": {
            "startup": false,
            "wait_interval": 0
          },
          "output_extras": [
            {}
          ],
          "base_uri": "https://localhost:8080/",
          "height": 68
        },
        "outputId": "9b294afe-7358-4d18-da96-17232dafc9b0",
        "executionInfo": {
          "status": "ok",
          "timestamp": 1522608779906,
          "user_tz": 420,
          "elapsed": 325,
          "user": {
            "displayName": "Noah Gift",
            "photoUrl": "//lh4.googleusercontent.com/-dTIpOULZLNo/AAAAAAAAAAI/AAAAAAAAD-E/-bTXf7FrPe0/s50-c-k-no/photo.jpg",
            "userId": "114367115509726512575"
          }
        }
      },
      "cell_type": "code",
      "source": [
        "print(f\"These are upper_body submission attacks in Brazilian Jiu Jitsu:\")\n",
        "for submission, body_part in submissions.items():\n",
        "    if body_part == \"lower_body\":\n",
        "        print(submission)"
      ],
      "execution_count": 0,
      "outputs": [
        {
          "output_type": "stream",
          "text": [
            "These are upper_body submission attacks in Brazilian Jiu Jitsu:\n",
            "heel_hook\n",
            "knee_bar\n"
          ],
          "name": "stdout"
        }
      ]
    },
    {
      "metadata": {
        "id": "9jkR5VTHjsc2",
        "colab_type": "text"
      },
      "cell_type": "markdown",
      "source": [
        "Dictionary keys and values can also be selected:"
      ]
    },
    {
      "metadata": {
        "id": "SviUgzEfjjD-",
        "colab_type": "code",
        "colab": {
          "autoexec": {
            "startup": false,
            "wait_interval": 0
          },
          "output_extras": [
            {}
          ],
          "base_uri": "https://localhost:8080/",
          "height": 51
        },
        "outputId": "1bb6716e-21a9-4f75-ee6a-625405d8f3fe",
        "executionInfo": {
          "status": "ok",
          "timestamp": 1522608856006,
          "user_tz": 420,
          "elapsed": 327,
          "user": {
            "displayName": "Noah Gift",
            "photoUrl": "//lh4.googleusercontent.com/-dTIpOULZLNo/AAAAAAAAAAI/AAAAAAAAD-E/-bTXf7FrPe0/s50-c-k-no/photo.jpg",
            "userId": "114367115509726512575"
          }
        }
      },
      "cell_type": "code",
      "source": [
        "print(f\"These are keys: {submissions.keys()}\")\n",
        "print(f\"These are values: {submissions.values()}\")"
      ],
      "execution_count": 0,
      "outputs": [
        {
          "output_type": "stream",
          "text": [
            "These are keys: dict_keys(['armbar', 'arm_triangle', 'heel_hook', 'knee_bar'])\n",
            "These are values: dict_values(['upper_body', 'upper_body', 'lower_body', 'lower_body'])\n"
          ],
          "name": "stdout"
        }
      ]
    },
    {
      "metadata": {
        "id": "IyHkox1Rj66y",
        "colab_type": "text"
      },
      "cell_type": "markdown",
      "source": [
        "**Lists**\n",
        "\n",
        "Lists are also very commonly used in Python. They allow for sequential collections. Lists can hold dictionaries, just as dictionaries can hold lists."
      ]
    },
    {
      "metadata": {
        "id": "MI-S0FStj1o4",
        "colab_type": "code",
        "colab": {
          "autoexec": {
            "startup": false,
            "wait_interval": 0
          }
        }
      },
      "cell_type": "code",
      "source": [
        "list_of_bjj_positions = [\"mount\", \"full-guard\", \"half-guard\", \n",
        "                         \"turtle\", \"side-control\", \"rear-mount\", \n",
        "                         \"knee-on-belly\", \"north-south\", \"open-guard\"]"
      ],
      "execution_count": 0,
      "outputs": []
    },
    {
      "metadata": {
        "id": "EoFWVpKYj94o",
        "colab_type": "code",
        "colab": {
          "autoexec": {
            "startup": false,
            "wait_interval": 0
          },
          "output_extras": [
            {}
          ],
          "base_uri": "https://localhost:8080/",
          "height": 68
        },
        "outputId": "1d89105e-814e-48bd-969a-e474bd079360",
        "executionInfo": {
          "status": "ok",
          "timestamp": 1522608900876,
          "user_tz": 420,
          "elapsed": 336,
          "user": {
            "displayName": "Noah Gift",
            "photoUrl": "//lh4.googleusercontent.com/-dTIpOULZLNo/AAAAAAAAAAI/AAAAAAAAD-E/-bTXf7FrPe0/s50-c-k-no/photo.jpg",
            "userId": "114367115509726512575"
          }
        }
      },
      "cell_type": "code",
      "source": [
        "for position in list_of_bjj_positions:\n",
        "    if \"guard\" in position:\n",
        "        print(position)"
      ],
      "execution_count": 0,
      "outputs": [
        {
          "output_type": "stream",
          "text": [
            "full-guard\n",
            "half-guard\n",
            "open-guard\n"
          ],
          "name": "stdout"
        }
      ]
    },
    {
      "metadata": {
        "id": "YAMxQJobkCy8",
        "colab_type": "text"
      },
      "cell_type": "markdown",
      "source": [
        "Lists can also be used to select elements by slicing"
      ]
    },
    {
      "metadata": {
        "id": "Zi6PKsRIkAl_",
        "colab_type": "code",
        "colab": {
          "autoexec": {
            "startup": false,
            "wait_interval": 0
          },
          "output_extras": [
            {}
          ],
          "base_uri": "https://localhost:8080/",
          "height": 68
        },
        "outputId": "fe2bd59e-df4c-44d3-b4c4-f6eece786ab4",
        "executionInfo": {
          "status": "ok",
          "timestamp": 1522609127940,
          "user_tz": 420,
          "elapsed": 491,
          "user": {
            "displayName": "Noah Gift",
            "photoUrl": "//lh4.googleusercontent.com/-dTIpOULZLNo/AAAAAAAAAAI/AAAAAAAAD-E/-bTXf7FrPe0/s50-c-k-no/photo.jpg",
            "userId": "114367115509726512575"
          }
        }
      },
      "cell_type": "code",
      "source": [
        "print(f'First position: {list_of_bjj_positions[:1]}')\n",
        "print(f'Last position: {list_of_bjj_positions[-1:]}')\n",
        "print(f'First three positions: {list_of_bjj_positions[0:3]}')"
      ],
      "execution_count": 0,
      "outputs": [
        {
          "output_type": "stream",
          "text": [
            "First position: ['mount']\n",
            "Last position: ['open-guard']\n",
            "First three positions: ['mount', 'full-guard', 'half-guard']\n"
          ],
          "name": "stdout"
        }
      ]
    },
    {
      "metadata": {
        "id": "KkCOxC9-lcPn",
        "colab_type": "text"
      },
      "cell_type": "markdown",
      "source": [
        "## Functions\n",
        "*  **Writing Functions**\n",
        "*  Function arguments:  positional, keyword\n",
        "*  Functional Currying:  Passing uncalled functions\n",
        "*  Functions that Yield\n",
        "*  Decorators:  Functions that wrap other functions"
      ]
    },
    {
      "metadata": {
        "id": "Cdiexy7floD0",
        "colab_type": "text"
      },
      "cell_type": "markdown",
      "source": [
        "#### Writing Functions\n",
        "Learning to write a function is the most fundamental skill to learn in Python.  With a basic mastery of functions, it is possible to have an almost full command of the language."
      ]
    },
    {
      "metadata": {
        "id": "8FUYk1qGluHH",
        "colab_type": "text"
      },
      "cell_type": "markdown",
      "source": [
        "**Simple function**\n",
        "\n",
        "The simplest functions just return a value."
      ]
    },
    {
      "metadata": {
        "id": "evAM5jI_k-Sa",
        "colab_type": "code",
        "colab": {
          "autoexec": {
            "startup": false,
            "wait_interval": 0
          }
        }
      },
      "cell_type": "code",
      "source": [
        "def favorite_martial_art():\n",
        "    return \"bjj\""
      ],
      "execution_count": 0,
      "outputs": []
    },
    {
      "metadata": {
        "id": "ISarIoxmlz3l",
        "colab_type": "code",
        "colab": {
          "autoexec": {
            "startup": false,
            "wait_interval": 0
          }
        }
      },
      "cell_type": "code",
      "source": [
        "def myfunc():pass"
      ],
      "execution_count": 0,
      "outputs": []
    },
    {
      "metadata": {
        "id": "n3RqISfwl1f1",
        "colab_type": "code",
        "colab": {
          "autoexec": {
            "startup": false,
            "wait_interval": 0
          },
          "output_extras": [
            {}
          ],
          "base_uri": "https://localhost:8080/",
          "height": 34
        },
        "outputId": "cc3047ff-edec-4474-b1e4-2e87ce1543c1",
        "executionInfo": {
          "status": "ok",
          "timestamp": 1522609386195,
          "user_tz": 420,
          "elapsed": 330,
          "user": {
            "displayName": "Noah Gift",
            "photoUrl": "//lh4.googleusercontent.com/-dTIpOULZLNo/AAAAAAAAAAI/AAAAAAAAD-E/-bTXf7FrPe0/s50-c-k-no/photo.jpg",
            "userId": "114367115509726512575"
          }
        }
      },
      "cell_type": "code",
      "source": [
        "favorite_martial_art()"
      ],
      "execution_count": 0,
      "outputs": [
        {
          "output_type": "execute_result",
          "data": {
            "text/plain": [
              "'bjj'"
            ]
          },
          "metadata": {
            "tags": []
          },
          "execution_count": 38
        }
      ]
    },
    {
      "metadata": {
        "id": "5s1MX4mTl8HZ",
        "colab_type": "text"
      },
      "cell_type": "markdown",
      "source": [
        "**Documenting Functions**\n",
        "\n",
        "It is a very good idea to document functions.  \n",
        "In Jupyter Notebook and IPython docstrings can be viewed by referring to the function with a ?.  ie.\n",
        "\n",
        "```\n",
        "In [2]: favorite_martial_art_with_docstring?\n",
        "Signature: favorite_martial_art_with_docstring()\n",
        "Docstring: This function returns the name of my favorite martial art\n",
        "File:      ~/src/functional_intro_to_python/<ipython-input-1-bef983c31735>\n",
        "Type:      function\n",
        "```"
      ]
    },
    {
      "metadata": {
        "id": "DIxYggI-l3FF",
        "colab_type": "code",
        "colab": {
          "autoexec": {
            "startup": false,
            "wait_interval": 0
          }
        }
      },
      "cell_type": "code",
      "source": [
        "def favorite_martial_art_with_docstring():\n",
        "    \"\"\"This function returns the name of my favorite martial art\"\"\"\n",
        "    return \"bjj\""
      ],
      "execution_count": 0,
      "outputs": []
    },
    {
      "metadata": {
        "id": "gz9xWRbymGxN",
        "colab_type": "text"
      },
      "cell_type": "markdown",
      "source": [
        "**Docstrings of functions can be printed out by referring to *```__doc__```*** "
      ]
    },
    {
      "metadata": {
        "id": "3Ri4xRDAmEAt",
        "colab_type": "code",
        "colab": {
          "autoexec": {
            "startup": false,
            "wait_interval": 0
          },
          "output_extras": [
            {}
          ],
          "base_uri": "https://localhost:8080/",
          "height": 34
        },
        "outputId": "682ee266-a75d-46e1-cb0e-eb41962bbaea",
        "executionInfo": {
          "status": "ok",
          "timestamp": 1522609565388,
          "user_tz": 420,
          "elapsed": 488,
          "user": {
            "displayName": "Noah Gift",
            "photoUrl": "//lh4.googleusercontent.com/-dTIpOULZLNo/AAAAAAAAAAI/AAAAAAAAD-E/-bTXf7FrPe0/s50-c-k-no/photo.jpg",
            "userId": "114367115509726512575"
          }
        }
      },
      "cell_type": "code",
      "source": [
        "favorite_martial_art_with_docstring.__doc__"
      ],
      "execution_count": 0,
      "outputs": [
        {
          "output_type": "execute_result",
          "data": {
            "text/plain": [
              "'This function returns the name of my favorite martial art'"
            ]
          },
          "metadata": {
            "tags": []
          },
          "execution_count": 41
        }
      ]
    },
    {
      "metadata": {
        "id": "lSbZioWDmt7A",
        "colab_type": "text"
      },
      "cell_type": "markdown",
      "source": [
        "#### Function arguments: positional, keyword\n",
        "\n",
        "A function is most useful when arguments are passed to the function. New values for times are processed inside the function. This function is also a 'positional' argument, vs a keyword argument. Positional arguments are processed in the order they are created in."
      ]
    },
    {
      "metadata": {
        "id": "ZazxMrcgmIu2",
        "colab_type": "code",
        "colab": {
          "autoexec": {
            "startup": false,
            "wait_interval": 0
          }
        }
      },
      "cell_type": "code",
      "source": [
        "def practice(times):\n",
        "    print(f\"I like to practice {times} times a day\")"
      ],
      "execution_count": 0,
      "outputs": []
    },
    {
      "metadata": {
        "id": "WAfQ7R9Lm0hH",
        "colab_type": "code",
        "colab": {
          "autoexec": {
            "startup": false,
            "wait_interval": 0
          },
          "output_extras": [
            {}
          ],
          "base_uri": "https://localhost:8080/",
          "height": 34
        },
        "outputId": "544949a8-08c8-4046-a299-9c96cd3b37a2",
        "executionInfo": {
          "status": "ok",
          "timestamp": 1522609645380,
          "user_tz": 420,
          "elapsed": 507,
          "user": {
            "displayName": "Noah Gift",
            "photoUrl": "//lh4.googleusercontent.com/-dTIpOULZLNo/AAAAAAAAAAI/AAAAAAAAD-E/-bTXf7FrPe0/s50-c-k-no/photo.jpg",
            "userId": "114367115509726512575"
          }
        }
      },
      "cell_type": "code",
      "source": [
        "practice(2)"
      ],
      "execution_count": 0,
      "outputs": [
        {
          "output_type": "stream",
          "text": [
            "I like to practice 2 times a day\n"
          ],
          "name": "stdout"
        }
      ]
    },
    {
      "metadata": {
        "id": "yaC3N-xRm2UP",
        "colab_type": "code",
        "colab": {
          "autoexec": {
            "startup": false,
            "wait_interval": 0
          },
          "output_extras": [
            {}
          ],
          "base_uri": "https://localhost:8080/",
          "height": 34
        },
        "outputId": "2173c603-a531-4161-b871-740218c1604d",
        "executionInfo": {
          "status": "ok",
          "timestamp": 1522609650254,
          "user_tz": 420,
          "elapsed": 341,
          "user": {
            "displayName": "Noah Gift",
            "photoUrl": "//lh4.googleusercontent.com/-dTIpOULZLNo/AAAAAAAAAAI/AAAAAAAAD-E/-bTXf7FrPe0/s50-c-k-no/photo.jpg",
            "userId": "114367115509726512575"
          }
        }
      },
      "cell_type": "code",
      "source": [
        "practice(3)"
      ],
      "execution_count": 0,
      "outputs": [
        {
          "output_type": "stream",
          "text": [
            "I like to practice 3 times a day\n"
          ],
          "name": "stdout"
        }
      ]
    },
    {
      "metadata": {
        "id": "wjOPqG4tm6V4",
        "colab_type": "text"
      },
      "cell_type": "markdown",
      "source": [
        "**Positional Arguments are processed in order**"
      ]
    },
    {
      "metadata": {
        "id": "LAnbb7Ffm3jA",
        "colab_type": "code",
        "colab": {
          "autoexec": {
            "startup": false,
            "wait_interval": 0
          }
        }
      },
      "cell_type": "code",
      "source": [
        "def practice(times, technique, duration):\n",
        "    print(f\"I like to practice {technique}, {times} times a day, for {duration} minutes\")"
      ],
      "execution_count": 0,
      "outputs": []
    },
    {
      "metadata": {
        "id": "pBFg1WSpm96o",
        "colab_type": "code",
        "colab": {
          "autoexec": {
            "startup": false,
            "wait_interval": 0
          },
          "output_extras": [
            {}
          ],
          "base_uri": "https://localhost:8080/",
          "height": 34
        },
        "outputId": "071949cc-f7d5-43b8-ce79-014be3398a63",
        "executionInfo": {
          "status": "ok",
          "timestamp": 1522609740700,
          "user_tz": 420,
          "elapsed": 339,
          "user": {
            "displayName": "Noah Gift",
            "photoUrl": "//lh4.googleusercontent.com/-dTIpOULZLNo/AAAAAAAAAAI/AAAAAAAAD-E/-bTXf7FrPe0/s50-c-k-no/photo.jpg",
            "userId": "114367115509726512575"
          }
        }
      },
      "cell_type": "code",
      "source": [
        "practice(3, \"leg locks\", 45)"
      ],
      "execution_count": 0,
      "outputs": [
        {
          "output_type": "stream",
          "text": [
            "I like to practice leg locks, 3 times a day, for 45 minutes\n"
          ],
          "name": "stdout"
        }
      ]
    },
    {
      "metadata": {
        "id": "Q-iFl78bqYL7",
        "colab_type": "text"
      },
      "cell_type": "markdown",
      "source": [
        "**Keyword Arguments are processed by key, value and can have default values**\n",
        "\n",
        "One handy feature of keyword arguments is that you can set defaults and only change the defaults you want to change."
      ]
    },
    {
      "metadata": {
        "id": "xGPSr7oRnNoB",
        "colab_type": "code",
        "colab": {
          "autoexec": {
            "startup": false,
            "wait_interval": 0
          }
        }
      },
      "cell_type": "code",
      "source": [
        "def practice(times=2, technique=\"kimura\", duration=60):\n",
        "    print(f\"I like to practice {technique}, {times} times a day, for {duration} minutes\")"
      ],
      "execution_count": 0,
      "outputs": []
    },
    {
      "metadata": {
        "id": "9wbcHp3RqeE6",
        "colab_type": "code",
        "colab": {
          "autoexec": {
            "startup": false,
            "wait_interval": 0
          },
          "output_extras": [
            {}
          ],
          "base_uri": "https://localhost:8080/",
          "height": 34
        },
        "outputId": "38222eba-d8d0-4caf-e196-1a6f25f87f9a",
        "executionInfo": {
          "status": "ok",
          "timestamp": 1522610601707,
          "user_tz": 420,
          "elapsed": 338,
          "user": {
            "displayName": "Noah Gift",
            "photoUrl": "//lh4.googleusercontent.com/-dTIpOULZLNo/AAAAAAAAAAI/AAAAAAAAD-E/-bTXf7FrPe0/s50-c-k-no/photo.jpg",
            "userId": "114367115509726512575"
          }
        }
      },
      "cell_type": "code",
      "source": [
        "practice()"
      ],
      "execution_count": 0,
      "outputs": [
        {
          "output_type": "stream",
          "text": [
            "I like to practice kimura, 2 times a day, for 60 minutes\n"
          ],
          "name": "stdout"
        }
      ]
    },
    {
      "metadata": {
        "id": "iZpM_CFfqf1K",
        "colab_type": "code",
        "colab": {
          "autoexec": {
            "startup": false,
            "wait_interval": 0
          },
          "output_extras": [
            {}
          ],
          "base_uri": "https://localhost:8080/",
          "height": 34
        },
        "outputId": "627a9641-aab9-44ca-c252-e7bd701d2766",
        "executionInfo": {
          "status": "ok",
          "timestamp": 1522610609775,
          "user_tz": 420,
          "elapsed": 325,
          "user": {
            "displayName": "Noah Gift",
            "photoUrl": "//lh4.googleusercontent.com/-dTIpOULZLNo/AAAAAAAAAAI/AAAAAAAAD-E/-bTXf7FrPe0/s50-c-k-no/photo.jpg",
            "userId": "114367115509726512575"
          }
        }
      },
      "cell_type": "code",
      "source": [
        "practice(duration=90, technique=\"armbar\", times=4)"
      ],
      "execution_count": 0,
      "outputs": [
        {
          "output_type": "stream",
          "text": [
            "I like to practice armbar, 4 times a day, for 90 minutes\n"
          ],
          "name": "stdout"
        }
      ]
    },
    {
      "metadata": {
        "id": "YLx6Cax5qlII",
        "colab_type": "text"
      },
      "cell_type": "markdown",
      "source": [
        "*****args and ****kwargs\n",
        "\n",
        "allow dynamic argument passing to functions\n",
        "Should be used with discretion because it can make code hard to understand"
      ]
    },
    {
      "metadata": {
        "id": "S94YHFbbqhzj",
        "colab_type": "code",
        "colab": {
          "autoexec": {
            "startup": false,
            "wait_interval": 0
          }
        }
      },
      "cell_type": "code",
      "source": [
        "def attack_techniques(**kwargs):\n",
        "    \"\"\"This accepts any number of keyword arguments\"\"\"\n",
        "    \n",
        "    for name, attack in kwargs.items():\n",
        "        print(f\"This is attack I would like to practice: {attack}\")"
      ],
      "execution_count": 0,
      "outputs": []
    },
    {
      "metadata": {
        "id": "FzmNEp5aq3gT",
        "colab_type": "code",
        "colab": {
          "autoexec": {
            "startup": false,
            "wait_interval": 0
          },
          "output_extras": [
            {}
          ],
          "base_uri": "https://localhost:8080/",
          "height": 68
        },
        "outputId": "0d332186-4122-4117-836b-dcdaf58d2974",
        "executionInfo": {
          "status": "ok",
          "timestamp": 1522610706418,
          "user_tz": 420,
          "elapsed": 551,
          "user": {
            "displayName": "Noah Gift",
            "photoUrl": "//lh4.googleusercontent.com/-dTIpOULZLNo/AAAAAAAAAAI/AAAAAAAAD-E/-bTXf7FrPe0/s50-c-k-no/photo.jpg",
            "userId": "114367115509726512575"
          }
        }
      },
      "cell_type": "code",
      "source": [
        "attack_techniques(arm_attack=\"kimura\", \n",
        "                  leg_attack=\"straight_ankle_lock\", neck_attach=\"arm_triangle\")"
      ],
      "execution_count": 0,
      "outputs": [
        {
          "output_type": "stream",
          "text": [
            "This is attack I would like to practice: kimura\n",
            "This is attack I would like to practice: straight_ankle_lock\n",
            "This is attack I would like to practice: arm_triangle\n"
          ],
          "name": "stdout"
        }
      ]
    },
    {
      "metadata": {
        "id": "HH_3zD8Uq7pc",
        "colab_type": "text"
      },
      "cell_type": "markdown",
      "source": [
        "**passing dictionary of keywords to function**\n",
        "\n",
        "**kwargs syntax can also be used to pass in arguments all at once"
      ]
    },
    {
      "metadata": {
        "id": "0o0bvq5Sq5WF",
        "colab_type": "code",
        "colab": {
          "autoexec": {
            "startup": false,
            "wait_interval": 0
          }
        }
      },
      "cell_type": "code",
      "source": [
        "attacks = {\"arm_attack\":\"kimura\", \n",
        "           \"leg_attack\":\"straight_ankle_lock\", \n",
        "           \"neck_attach\":\"arm_triangle\"}"
      ],
      "execution_count": 0,
      "outputs": []
    },
    {
      "metadata": {
        "id": "LIm6ZxNUrDRV",
        "colab_type": "code",
        "colab": {
          "autoexec": {
            "startup": false,
            "wait_interval": 0
          },
          "output_extras": [
            {}
          ],
          "base_uri": "https://localhost:8080/",
          "height": 68
        },
        "outputId": "52e9d4ff-a82d-46ed-fda5-56d33b95b663",
        "executionInfo": {
          "status": "ok",
          "timestamp": 1522610754431,
          "user_tz": 420,
          "elapsed": 330,
          "user": {
            "displayName": "Noah Gift",
            "photoUrl": "//lh4.googleusercontent.com/-dTIpOULZLNo/AAAAAAAAAAI/AAAAAAAAD-E/-bTXf7FrPe0/s50-c-k-no/photo.jpg",
            "userId": "114367115509726512575"
          }
        }
      },
      "cell_type": "code",
      "source": [
        "attack_techniques(**attacks)"
      ],
      "execution_count": 0,
      "outputs": [
        {
          "output_type": "stream",
          "text": [
            "This is attack I would like to practice: kimura\n",
            "This is attack I would like to practice: straight_ankle_lock\n",
            "This is attack I would like to practice: arm_triangle\n"
          ],
          "name": "stdout"
        }
      ]
    },
    {
      "metadata": {
        "id": "68UzTUSvrHNU",
        "colab_type": "text"
      },
      "cell_type": "markdown",
      "source": [
        "**Passing Around Functions**\n",
        "\n",
        "Object-Oriented programming is a very popular way to program, but it isn't the only style available in Python. For concurrency and for Data Science, functional programming fits as a complementary style.\n",
        "\n",
        "In the example, below a function can be used inside of another function by being passed into the function itself as an argument."
      ]
    },
    {
      "metadata": {
        "id": "33LkDqP7rFHu",
        "colab_type": "code",
        "colab": {
          "autoexec": {
            "startup": false,
            "wait_interval": 0
          }
        }
      },
      "cell_type": "code",
      "source": [
        "def attack_location(technique):\n",
        "    \"\"\"Return the location of an attack\"\"\"\n",
        "    \n",
        "    attacks = {\"kimura\": \"arm_attack\",\n",
        "           \"straight_ankle_lock\":\"leg_attack\", \n",
        "           \"arm_triangle\":\"neck_attach\"}\n",
        "    if technique in attacks:\n",
        "        return attacks[technique]\n",
        "    return \"Unknown\""
      ],
      "execution_count": 0,
      "outputs": []
    },
    {
      "metadata": {
        "id": "_DSlMWEHrNO8",
        "colab_type": "code",
        "colab": {
          "autoexec": {
            "startup": false,
            "wait_interval": 0
          },
          "output_extras": [
            {}
          ],
          "base_uri": "https://localhost:8080/",
          "height": 34
        },
        "outputId": "bf7d47f3-85e8-4f09-cc84-8698b368972a",
        "executionInfo": {
          "status": "ok",
          "timestamp": 1522610810090,
          "user_tz": 420,
          "elapsed": 332,
          "user": {
            "displayName": "Noah Gift",
            "photoUrl": "//lh4.googleusercontent.com/-dTIpOULZLNo/AAAAAAAAAAI/AAAAAAAAD-E/-bTXf7FrPe0/s50-c-k-no/photo.jpg",
            "userId": "114367115509726512575"
          }
        }
      },
      "cell_type": "code",
      "source": [
        "attack_location(\"kimura\")"
      ],
      "execution_count": 0,
      "outputs": [
        {
          "output_type": "execute_result",
          "data": {
            "text/plain": [
              "'arm_attack'"
            ]
          },
          "metadata": {
            "tags": []
          },
          "execution_count": 56
        }
      ]
    },
    {
      "metadata": {
        "id": "cE4gnDHnrStV",
        "colab_type": "code",
        "colab": {
          "autoexec": {
            "startup": false,
            "wait_interval": 0
          },
          "output_extras": [
            {}
          ],
          "base_uri": "https://localhost:8080/",
          "height": 34
        },
        "outputId": "6ed6686f-07a3-4024-d645-4f530dac76d6",
        "executionInfo": {
          "status": "ok",
          "timestamp": 1522610817341,
          "user_tz": 420,
          "elapsed": 324,
          "user": {
            "displayName": "Noah Gift",
            "photoUrl": "//lh4.googleusercontent.com/-dTIpOULZLNo/AAAAAAAAAAI/AAAAAAAAD-E/-bTXf7FrPe0/s50-c-k-no/photo.jpg",
            "userId": "114367115509726512575"
          }
        }
      },
      "cell_type": "code",
      "source": [
        "attack_location(\"bear hug\")"
      ],
      "execution_count": 0,
      "outputs": [
        {
          "output_type": "execute_result",
          "data": {
            "text/plain": [
              "'Unknown'"
            ]
          },
          "metadata": {
            "tags": []
          },
          "execution_count": 57
        }
      ]
    },
    {
      "metadata": {
        "id": "mDt1pozYrUet",
        "colab_type": "code",
        "colab": {
          "autoexec": {
            "startup": false,
            "wait_interval": 0
          }
        }
      },
      "cell_type": "code",
      "source": [
        "def multiple_attacks(attack_location_function):\n",
        "    \"\"\"Takes a function that categorizes attacks and returns location\"\"\"\n",
        "    \n",
        "    new_attacks_list = [\"rear_naked_choke\", \"americana\", \"kimura\"]\n",
        "    for attack in new_attacks_list:\n",
        "        attack_location = attack_location_function(attack)\n",
        "        print(f\"The location of attack {attack} is {attack_location}\")\n",
        "    "
      ],
      "execution_count": 0,
      "outputs": []
    },
    {
      "metadata": {
        "id": "mHHjf1u_rWCd",
        "colab_type": "code",
        "colab": {
          "autoexec": {
            "startup": false,
            "wait_interval": 0
          },
          "output_extras": [
            {}
          ],
          "base_uri": "https://localhost:8080/",
          "height": 68
        },
        "outputId": "9b2414e8-5362-4b1e-cd37-b00386552aa4",
        "executionInfo": {
          "status": "ok",
          "timestamp": 1522610833191,
          "user_tz": 420,
          "elapsed": 192,
          "user": {
            "displayName": "Noah Gift",
            "photoUrl": "//lh4.googleusercontent.com/-dTIpOULZLNo/AAAAAAAAAAI/AAAAAAAAD-E/-bTXf7FrPe0/s50-c-k-no/photo.jpg",
            "userId": "114367115509726512575"
          }
        }
      },
      "cell_type": "code",
      "source": [
        "multiple_attacks(attack_location)"
      ],
      "execution_count": 0,
      "outputs": [
        {
          "output_type": "stream",
          "text": [
            "The location of attack rear_naked_choke is Unknown\n",
            "The location of attack americana is Unknown\n",
            "The location of attack kimura is arm_attack\n"
          ],
          "name": "stdout"
        }
      ]
    },
    {
      "metadata": {
        "id": "TUiAz5MQrzQ0",
        "colab_type": "text"
      },
      "cell_type": "markdown",
      "source": [
        "#### Closures and Functional Currying\n",
        "\n",
        "Closures are functions that contain other nested functions. In Python, a common way to use them is to keep track of the state. In the example below, the outer function, attack_counter keeps track of counts of attacks. The inner fuction attack_filter uses the \"nonlocal\" keyword in Python3, to modify the variable in the outer function.\n",
        "\n",
        "This approach is called \"functional currying\". It allows for a specialized function to be created from general functions. As shown below, this style of function could be the basis of a simple video game or maybe for the statistics crew of a mma match."
      ]
    },
    {
      "metadata": {
        "id": "GA98rOUfrYYW",
        "colab_type": "code",
        "colab": {
          "autoexec": {
            "startup": false,
            "wait_interval": 0
          }
        }
      },
      "cell_type": "code",
      "source": [
        "def attack_counter():\n",
        "    \"\"\"Counts number of attacks on part of body\"\"\"\n",
        "    lower_body_counter = 0\n",
        "    upper_body_counter = 0\n",
        "    #print(lower_body_counter)\n",
        "    def attack_filter(attack):\n",
        "        nonlocal lower_body_counter\n",
        "        nonlocal upper_body_counter\n",
        "        attacks = {\"kimura\": \"upper_body\",\n",
        "           \"straight_ankle_lock\":\"lower_body\", \n",
        "           \"arm_triangle\":\"upper_body\",\n",
        "            \"keylock\": \"upper_body\",\n",
        "            \"knee_bar\": \"lower_body\"}\n",
        "        if attack in attacks:\n",
        "            if attacks[attack] == \"upper_body\":\n",
        "                upper_body_counter +=1\n",
        "            if attacks[attack] == \"lower_body\":\n",
        "                lower_body_counter +=1\n",
        "        print(f\"Upper Body Attacks {upper_body_counter}, Lower Body Attacks {lower_body_counter}\")\n",
        "    return attack_filter"
      ],
      "execution_count": 0,
      "outputs": []
    },
    {
      "metadata": {
        "id": "lkgoQQK6r_Ce",
        "colab_type": "code",
        "colab": {
          "autoexec": {
            "startup": false,
            "wait_interval": 0
          }
        }
      },
      "cell_type": "code",
      "source": [
        "fight = attack_counter()"
      ],
      "execution_count": 0,
      "outputs": []
    },
    {
      "metadata": {
        "id": "-XmBshgPsBA_",
        "colab_type": "code",
        "colab": {
          "autoexec": {
            "startup": false,
            "wait_interval": 0
          },
          "output_extras": [
            {}
          ],
          "base_uri": "https://localhost:8080/",
          "height": 34
        },
        "outputId": "29bf34e8-d562-408c-9df7-b77386a1fb1b",
        "executionInfo": {
          "status": "ok",
          "timestamp": 1522611006408,
          "user_tz": 420,
          "elapsed": 334,
          "user": {
            "displayName": "Noah Gift",
            "photoUrl": "//lh4.googleusercontent.com/-dTIpOULZLNo/AAAAAAAAAAI/AAAAAAAAD-E/-bTXf7FrPe0/s50-c-k-no/photo.jpg",
            "userId": "114367115509726512575"
          }
        }
      },
      "cell_type": "code",
      "source": [
        "fight(\"kimura\")"
      ],
      "execution_count": 0,
      "outputs": [
        {
          "output_type": "stream",
          "text": [
            "Upper Body Attacks 1, Lower Body Attacks 0\n"
          ],
          "name": "stdout"
        }
      ]
    },
    {
      "metadata": {
        "id": "raaAX8rssCow",
        "colab_type": "code",
        "colab": {
          "autoexec": {
            "startup": false,
            "wait_interval": 0
          },
          "output_extras": [
            {}
          ],
          "base_uri": "https://localhost:8080/",
          "height": 34
        },
        "outputId": "e2f622da-6eea-4194-a2da-22678ec8a4f8",
        "executionInfo": {
          "status": "ok",
          "timestamp": 1522611011970,
          "user_tz": 420,
          "elapsed": 506,
          "user": {
            "displayName": "Noah Gift",
            "photoUrl": "//lh4.googleusercontent.com/-dTIpOULZLNo/AAAAAAAAAAI/AAAAAAAAD-E/-bTXf7FrPe0/s50-c-k-no/photo.jpg",
            "userId": "114367115509726512575"
          }
        }
      },
      "cell_type": "code",
      "source": [
        "fight(\"knee_bar\")"
      ],
      "execution_count": 0,
      "outputs": [
        {
          "output_type": "stream",
          "text": [
            "Upper Body Attacks 1, Lower Body Attacks 1\n"
          ],
          "name": "stdout"
        }
      ]
    },
    {
      "metadata": {
        "id": "IiMpVq_asD8_",
        "colab_type": "code",
        "colab": {
          "autoexec": {
            "startup": false,
            "wait_interval": 0
          },
          "output_extras": [
            {}
          ],
          "base_uri": "https://localhost:8080/",
          "height": 34
        },
        "outputId": "7a091129-44ad-44d8-a099-2e2f1c81ebc9",
        "executionInfo": {
          "status": "ok",
          "timestamp": 1522611020630,
          "user_tz": 420,
          "elapsed": 322,
          "user": {
            "displayName": "Noah Gift",
            "photoUrl": "//lh4.googleusercontent.com/-dTIpOULZLNo/AAAAAAAAAAI/AAAAAAAAD-E/-bTXf7FrPe0/s50-c-k-no/photo.jpg",
            "userId": "114367115509726512575"
          }
        }
      },
      "cell_type": "code",
      "source": [
        "fight(\"keylock\")"
      ],
      "execution_count": 0,
      "outputs": [
        {
          "output_type": "stream",
          "text": [
            "Upper Body Attacks 2, Lower Body Attacks 1\n"
          ],
          "name": "stdout"
        }
      ]
    },
    {
      "metadata": {
        "id": "aLIO9ChNsLtv",
        "colab_type": "text"
      },
      "cell_type": "markdown",
      "source": [
        "#### Functions that Yield (Generators)\n",
        "\n",
        "A very useful style of programming is \"lazy evaluation\". A generator is an example of that. Generators yield an items at a time.\n",
        "\n",
        "The example below return an \"infinite\" random sequence of attacks. The lazy portion comes into play in that while there is an infinite amount of values, they are only returned when the function is called."
      ]
    },
    {
      "metadata": {
        "id": "POIrTolzsGHI",
        "colab_type": "code",
        "colab": {
          "autoexec": {
            "startup": false,
            "wait_interval": 0
          }
        }
      },
      "cell_type": "code",
      "source": [
        "def lazy_return_random_attacks():\n",
        "    \"\"\"Yield attacks each time\"\"\"\n",
        "    import random\n",
        "    attacks = {\"kimura\": \"upper_body\",\n",
        "           \"straight_ankle_lock\":\"lower_body\", \n",
        "           \"arm_triangle\":\"upper_body\",\n",
        "            \"keylock\": \"upper_body\",\n",
        "            \"knee_bar\": \"lower_body\"}\n",
        "    while True:\n",
        "        random_attack = random.choices(list(attacks.keys()))\n",
        "        yield random_attack"
      ],
      "execution_count": 0,
      "outputs": []
    },
    {
      "metadata": {
        "id": "2-YpCTpgsQ-w",
        "colab_type": "code",
        "colab": {
          "autoexec": {
            "startup": false,
            "wait_interval": 0
          }
        }
      },
      "cell_type": "code",
      "source": [
        "attack = lazy_return_random_attacks()"
      ],
      "execution_count": 0,
      "outputs": []
    },
    {
      "metadata": {
        "id": "E0KpVrnBsSmB",
        "colab_type": "code",
        "colab": {
          "autoexec": {
            "startup": false,
            "wait_interval": 0
          },
          "output_extras": [
            {}
          ],
          "base_uri": "https://localhost:8080/",
          "height": 34
        },
        "outputId": "f053ddcd-5fd9-4e6d-e88d-fc3adf7efc53",
        "executionInfo": {
          "status": "ok",
          "timestamp": 1522611078645,
          "user_tz": 420,
          "elapsed": 340,
          "user": {
            "displayName": "Noah Gift",
            "photoUrl": "//lh4.googleusercontent.com/-dTIpOULZLNo/AAAAAAAAAAI/AAAAAAAAD-E/-bTXf7FrPe0/s50-c-k-no/photo.jpg",
            "userId": "114367115509726512575"
          }
        }
      },
      "cell_type": "code",
      "source": [
        "type(attack)"
      ],
      "execution_count": 0,
      "outputs": [
        {
          "output_type": "execute_result",
          "data": {
            "text/plain": [
              "generator"
            ]
          },
          "metadata": {
            "tags": []
          },
          "execution_count": 67
        }
      ]
    },
    {
      "metadata": {
        "id": "GpmNPsCFsURY",
        "colab_type": "code",
        "colab": {
          "autoexec": {
            "startup": false,
            "wait_interval": 0
          }
        }
      },
      "cell_type": "code",
      "source": [
        "attacks = {\"kimura\": \"upper_body\",\n",
        "           \"straight_ankle_lock\":\"lower_body\", \n",
        "           \"arm_triangle\":\"upper_body\",\n",
        "            \"keylock\": \"upper_body\",\n",
        "            \"knee_bar\": \"lower_body\"}"
      ],
      "execution_count": 0,
      "outputs": []
    },
    {
      "metadata": {
        "id": "uq41o3wrsYRJ",
        "colab_type": "code",
        "colab": {
          "autoexec": {
            "startup": false,
            "wait_interval": 0
          },
          "output_extras": [
            {}
          ],
          "base_uri": "https://localhost:8080/",
          "height": 102
        },
        "outputId": "c8e0475d-5439-4880-a5f4-aaa3975068bd",
        "executionInfo": {
          "status": "ok",
          "timestamp": 1522611111062,
          "user_tz": 420,
          "elapsed": 318,
          "user": {
            "displayName": "Noah Gift",
            "photoUrl": "//lh4.googleusercontent.com/-dTIpOULZLNo/AAAAAAAAAAI/AAAAAAAAD-E/-bTXf7FrPe0/s50-c-k-no/photo.jpg",
            "userId": "114367115509726512575"
          }
        }
      },
      "cell_type": "code",
      "source": [
        "for _ in range(5):\n",
        "    print(next(attack))"
      ],
      "execution_count": 0,
      "outputs": [
        {
          "output_type": "stream",
          "text": [
            "['straight_ankle_lock']\n",
            "['straight_ankle_lock']\n",
            "['knee_bar']\n",
            "['arm_triangle']\n",
            "['knee_bar']\n"
          ],
          "name": "stdout"
        }
      ]
    },
    {
      "metadata": {
        "id": "vMuPog4LshHn",
        "colab_type": "text"
      },
      "cell_type": "markdown",
      "source": [
        "#### Decorators: Functions that wrap other functions\n",
        "\n",
        "Another useful technique in Python is to use the decorator syntax to wrap one function with another function. In the example below, a decorator is written that adds random sleep to each function call. When combined with the previous \"infinite\" attack generator, it generates random sleeps between each function call."
      ]
    },
    {
      "metadata": {
        "id": "Mgg2IeqqscMI",
        "colab_type": "code",
        "colab": {
          "autoexec": {
            "startup": false,
            "wait_interval": 0
          }
        }
      },
      "cell_type": "code",
      "source": [
        "def randomized_speed_attack_decorator(function):\n",
        "    \"\"\"Randomizes the speed of attacks\"\"\"\n",
        "    \n",
        "    import time\n",
        "    import random\n",
        "    \n",
        "    def wrapper_func(*args, **kwargs):\n",
        "        sleep_time = random.randint(0,3)\n",
        "        print(f\"Attacking after {sleep_time} seconds\")\n",
        "        time.sleep(sleep_time)\n",
        "        return function(*args, **kwargs)\n",
        "    return wrapper_func\n"
      ],
      "execution_count": 0,
      "outputs": []
    },
    {
      "metadata": {
        "id": "DzYV0s0GslOx",
        "colab_type": "code",
        "colab": {
          "autoexec": {
            "startup": false,
            "wait_interval": 0
          }
        }
      },
      "cell_type": "code",
      "source": [
        "@randomized_speed_attack_decorator\n",
        "def lazy_return_random_attacks():\n",
        "    \"\"\"Yield attacks each time\"\"\"\n",
        "    import random\n",
        "    attacks = {\"kimura\": \"upper_body\",\n",
        "           \"straight_ankle_lock\":\"lower_body\", \n",
        "           \"arm_triangle\":\"upper_body\",\n",
        "            \"keylock\": \"upper_body\",\n",
        "            \"knee_bar\": \"lower_body\"}\n",
        "    while True:\n",
        "        random_attack = random.choices(list(attacks.keys()))\n",
        "        yield random_attack"
      ],
      "execution_count": 0,
      "outputs": []
    },
    {
      "metadata": {
        "id": "GdsePWP4sreC",
        "colab_type": "code",
        "colab": {
          "autoexec": {
            "startup": false,
            "wait_interval": 0
          },
          "output_extras": [
            {}
          ],
          "base_uri": "https://localhost:8080/",
          "height": 357
        },
        "outputId": "fdd7232d-1a1f-477b-fb09-1b26d1291305",
        "executionInfo": {
          "status": "ok",
          "timestamp": 1522611201311,
          "user_tz": 420,
          "elapsed": 20379,
          "user": {
            "displayName": "Noah Gift",
            "photoUrl": "//lh4.googleusercontent.com/-dTIpOULZLNo/AAAAAAAAAAI/AAAAAAAAD-E/-bTXf7FrPe0/s50-c-k-no/photo.jpg",
            "userId": "114367115509726512575"
          }
        }
      },
      "cell_type": "code",
      "source": [
        "for _ in range(10):\n",
        "    print(next(lazy_return_random_attacks()))"
      ],
      "execution_count": 0,
      "outputs": [
        {
          "output_type": "stream",
          "text": [
            "Attacking after 2 seconds\n",
            "['arm_triangle']\n",
            "Attacking after 3 seconds\n",
            "['arm_triangle']\n",
            "Attacking after 3 seconds\n",
            "['keylock']\n",
            "Attacking after 0 seconds\n",
            "['knee_bar']\n",
            "Attacking after 3 seconds\n",
            "['knee_bar']\n",
            "Attacking after 3 seconds\n",
            "['keylock']\n",
            "Attacking after 2 seconds\n",
            "['knee_bar']\n",
            "Attacking after 1 seconds\n",
            "['keylock']\n",
            "Attacking after 3 seconds\n",
            "['arm_triangle']\n",
            "Attacking after 0 seconds\n",
            "['keylock']\n"
          ],
          "name": "stdout"
        }
      ]
    },
    {
      "metadata": {
        "id": "VJ9sUUN1sz_6",
        "colab_type": "text"
      },
      "cell_type": "markdown",
      "source": [
        "#### Applying a Function to a Pandas DataFrame\n",
        "\n",
        "The final lesson on functions is to take this knowledge and use it on a DataFrame in Pandas. One of the more fundamental concepts in Pandas is use apply on a column vs iterating through all of the values. An example is shown below where all of the numbers are rounded to a whole digit."
      ]
    },
    {
      "metadata": {
        "id": "FP-CwOqostU6",
        "colab_type": "code",
        "colab": {
          "autoexec": {
            "startup": false,
            "wait_interval": 0
          },
          "output_extras": [
            {}
          ],
          "base_uri": "https://localhost:8080/",
          "height": 102
        },
        "outputId": "8b24af70-4e11-49bb-f4b7-8694fdc2aea1",
        "executionInfo": {
          "status": "ok",
          "timestamp": 1522611296959,
          "user_tz": 420,
          "elapsed": 3023,
          "user": {
            "displayName": "Noah Gift",
            "photoUrl": "//lh4.googleusercontent.com/-dTIpOULZLNo/AAAAAAAAAAI/AAAAAAAAD-E/-bTXf7FrPe0/s50-c-k-no/photo.jpg",
            "userId": "114367115509726512575"
          }
        }
      },
      "cell_type": "code",
      "source": [
        "!pip install pandas"
      ],
      "execution_count": 0,
      "outputs": [
        {
          "output_type": "stream",
          "text": [
            "Requirement already satisfied: pandas in /usr/local/lib/python3.6/dist-packages\r\n",
            "Requirement already satisfied: python-dateutil>=2 in /usr/local/lib/python3.6/dist-packages (from pandas)\r\n",
            "Requirement already satisfied: numpy>=1.9.0 in /usr/local/lib/python3.6/dist-packages (from pandas)\n",
            "Requirement already satisfied: pytz>=2011k in /usr/local/lib/python3.6/dist-packages (from pandas)\n",
            "Requirement already satisfied: six>=1.5 in /usr/local/lib/python3.6/dist-packages (from python-dateutil>=2->pandas)\n"
          ],
          "name": "stdout"
        }
      ]
    },
    {
      "metadata": {
        "id": "FuVhdH6itI6T",
        "colab_type": "code",
        "colab": {
          "autoexec": {
            "startup": false,
            "wait_interval": 0
          },
          "output_extras": [
            {}
          ],
          "base_uri": "https://localhost:8080/",
          "height": 204
        },
        "outputId": "417e97da-2d32-4d50-8c00-9db2b6d8d24a",
        "executionInfo": {
          "status": "ok",
          "timestamp": 1522611358059,
          "user_tz": 420,
          "elapsed": 531,
          "user": {
            "displayName": "Noah Gift",
            "photoUrl": "//lh4.googleusercontent.com/-dTIpOULZLNo/AAAAAAAAAAI/AAAAAAAAD-E/-bTXf7FrPe0/s50-c-k-no/photo.jpg",
            "userId": "114367115509726512575"
          }
        }
      },
      "cell_type": "code",
      "source": [
        "import pandas as pd\n",
        "iris = pd.read_csv('https://raw.githubusercontent.com/mwaskom/seaborn-data/master/iris.csv')\n",
        "iris.head()"
      ],
      "execution_count": 0,
      "outputs": [
        {
          "output_type": "execute_result",
          "data": {
            "text/html": [
              "<div>\n",
              "<style scoped>\n",
              "    .dataframe tbody tr th:only-of-type {\n",
              "        vertical-align: middle;\n",
              "    }\n",
              "\n",
              "    .dataframe tbody tr th {\n",
              "        vertical-align: top;\n",
              "    }\n",
              "\n",
              "    .dataframe thead th {\n",
              "        text-align: right;\n",
              "    }\n",
              "</style>\n",
              "<table border=\"1\" class=\"dataframe\">\n",
              "  <thead>\n",
              "    <tr style=\"text-align: right;\">\n",
              "      <th></th>\n",
              "      <th>sepal_length</th>\n",
              "      <th>sepal_width</th>\n",
              "      <th>petal_length</th>\n",
              "      <th>petal_width</th>\n",
              "      <th>species</th>\n",
              "    </tr>\n",
              "  </thead>\n",
              "  <tbody>\n",
              "    <tr>\n",
              "      <th>0</th>\n",
              "      <td>5.1</td>\n",
              "      <td>3.5</td>\n",
              "      <td>1.4</td>\n",
              "      <td>0.2</td>\n",
              "      <td>setosa</td>\n",
              "    </tr>\n",
              "    <tr>\n",
              "      <th>1</th>\n",
              "      <td>4.9</td>\n",
              "      <td>3.0</td>\n",
              "      <td>1.4</td>\n",
              "      <td>0.2</td>\n",
              "      <td>setosa</td>\n",
              "    </tr>\n",
              "    <tr>\n",
              "      <th>2</th>\n",
              "      <td>4.7</td>\n",
              "      <td>3.2</td>\n",
              "      <td>1.3</td>\n",
              "      <td>0.2</td>\n",
              "      <td>setosa</td>\n",
              "    </tr>\n",
              "    <tr>\n",
              "      <th>3</th>\n",
              "      <td>4.6</td>\n",
              "      <td>3.1</td>\n",
              "      <td>1.5</td>\n",
              "      <td>0.2</td>\n",
              "      <td>setosa</td>\n",
              "    </tr>\n",
              "    <tr>\n",
              "      <th>4</th>\n",
              "      <td>5.0</td>\n",
              "      <td>3.6</td>\n",
              "      <td>1.4</td>\n",
              "      <td>0.2</td>\n",
              "      <td>setosa</td>\n",
              "    </tr>\n",
              "  </tbody>\n",
              "</table>\n",
              "</div>"
            ],
            "text/plain": [
              "   sepal_length  sepal_width  petal_length  petal_width species\n",
              "0           5.1          3.5           1.4          0.2  setosa\n",
              "1           4.9          3.0           1.4          0.2  setosa\n",
              "2           4.7          3.2           1.3          0.2  setosa\n",
              "3           4.6          3.1           1.5          0.2  setosa\n",
              "4           5.0          3.6           1.4          0.2  setosa"
            ]
          },
          "metadata": {
            "tags": []
          },
          "execution_count": 74
        }
      ]
    },
    {
      "metadata": {
        "id": "Z49MY9N4tYb8",
        "colab_type": "code",
        "colab": {
          "autoexec": {
            "startup": false,
            "wait_interval": 0
          },
          "output_extras": [
            {}
          ],
          "base_uri": "https://localhost:8080/",
          "height": 204
        },
        "outputId": "5aa4a270-7ae7-4137-cfaa-4065f9968c0f",
        "executionInfo": {
          "status": "ok",
          "timestamp": 1522611364755,
          "user_tz": 420,
          "elapsed": 341,
          "user": {
            "displayName": "Noah Gift",
            "photoUrl": "//lh4.googleusercontent.com/-dTIpOULZLNo/AAAAAAAAAAI/AAAAAAAAD-E/-bTXf7FrPe0/s50-c-k-no/photo.jpg",
            "userId": "114367115509726512575"
          }
        }
      },
      "cell_type": "code",
      "source": [
        "iris['rounded_sepal_length'] = iris[['sepal_length']].apply(pd.Series.round)\n",
        "iris.head()"
      ],
      "execution_count": 0,
      "outputs": [
        {
          "output_type": "execute_result",
          "data": {
            "text/html": [
              "<div>\n",
              "<style scoped>\n",
              "    .dataframe tbody tr th:only-of-type {\n",
              "        vertical-align: middle;\n",
              "    }\n",
              "\n",
              "    .dataframe tbody tr th {\n",
              "        vertical-align: top;\n",
              "    }\n",
              "\n",
              "    .dataframe thead th {\n",
              "        text-align: right;\n",
              "    }\n",
              "</style>\n",
              "<table border=\"1\" class=\"dataframe\">\n",
              "  <thead>\n",
              "    <tr style=\"text-align: right;\">\n",
              "      <th></th>\n",
              "      <th>sepal_length</th>\n",
              "      <th>sepal_width</th>\n",
              "      <th>petal_length</th>\n",
              "      <th>petal_width</th>\n",
              "      <th>species</th>\n",
              "      <th>rounded_sepal_length</th>\n",
              "    </tr>\n",
              "  </thead>\n",
              "  <tbody>\n",
              "    <tr>\n",
              "      <th>0</th>\n",
              "      <td>5.1</td>\n",
              "      <td>3.5</td>\n",
              "      <td>1.4</td>\n",
              "      <td>0.2</td>\n",
              "      <td>setosa</td>\n",
              "      <td>5.0</td>\n",
              "    </tr>\n",
              "    <tr>\n",
              "      <th>1</th>\n",
              "      <td>4.9</td>\n",
              "      <td>3.0</td>\n",
              "      <td>1.4</td>\n",
              "      <td>0.2</td>\n",
              "      <td>setosa</td>\n",
              "      <td>5.0</td>\n",
              "    </tr>\n",
              "    <tr>\n",
              "      <th>2</th>\n",
              "      <td>4.7</td>\n",
              "      <td>3.2</td>\n",
              "      <td>1.3</td>\n",
              "      <td>0.2</td>\n",
              "      <td>setosa</td>\n",
              "      <td>5.0</td>\n",
              "    </tr>\n",
              "    <tr>\n",
              "      <th>3</th>\n",
              "      <td>4.6</td>\n",
              "      <td>3.1</td>\n",
              "      <td>1.5</td>\n",
              "      <td>0.2</td>\n",
              "      <td>setosa</td>\n",
              "      <td>5.0</td>\n",
              "    </tr>\n",
              "    <tr>\n",
              "      <th>4</th>\n",
              "      <td>5.0</td>\n",
              "      <td>3.6</td>\n",
              "      <td>1.4</td>\n",
              "      <td>0.2</td>\n",
              "      <td>setosa</td>\n",
              "      <td>5.0</td>\n",
              "    </tr>\n",
              "  </tbody>\n",
              "</table>\n",
              "</div>"
            ],
            "text/plain": [
              "   sepal_length  sepal_width  petal_length  petal_width species  \\\n",
              "0           5.1          3.5           1.4          0.2  setosa   \n",
              "1           4.9          3.0           1.4          0.2  setosa   \n",
              "2           4.7          3.2           1.3          0.2  setosa   \n",
              "3           4.6          3.1           1.5          0.2  setosa   \n",
              "4           5.0          3.6           1.4          0.2  setosa   \n",
              "\n",
              "   rounded_sepal_length  \n",
              "0                   5.0  \n",
              "1                   5.0  \n",
              "2                   5.0  \n",
              "3                   5.0  \n",
              "4                   5.0  "
            ]
          },
          "metadata": {
            "tags": []
          },
          "execution_count": 75
        }
      ]
    },
    {
      "metadata": {
        "id": "crAix83YtfIU",
        "colab_type": "text"
      },
      "cell_type": "markdown",
      "source": [
        "This was done with a built in function, but a custom function can also be written and applied to a column. In the example below, the values are multiplied by 100. The alternative way to accomplish this would be to create a loop, transform the data and then write it back. In Pandas, it is straightforward and simple to apply custom functions instead."
      ]
    },
    {
      "metadata": {
        "id": "7vNcYc6htaHj",
        "colab_type": "code",
        "colab": {
          "autoexec": {
            "startup": false,
            "wait_interval": 0
          },
          "output_extras": [
            {}
          ],
          "base_uri": "https://localhost:8080/",
          "height": 204
        },
        "outputId": "e8c59d57-0696-4a2e-c4e6-e066d3d4e306",
        "executionInfo": {
          "status": "ok",
          "timestamp": 1522611396725,
          "user_tz": 420,
          "elapsed": 324,
          "user": {
            "displayName": "Noah Gift",
            "photoUrl": "//lh4.googleusercontent.com/-dTIpOULZLNo/AAAAAAAAAAI/AAAAAAAAD-E/-bTXf7FrPe0/s50-c-k-no/photo.jpg",
            "userId": "114367115509726512575"
          }
        }
      },
      "cell_type": "code",
      "source": [
        "def multiply_by_100(x):\n",
        "    \"\"\"Multiplies by 100\"\"\"\n",
        "    return x*100\n",
        "iris['100x_sepal_length'] = iris[['sepal_length']].apply(multiply_by_100)\n",
        "iris.head()"
      ],
      "execution_count": 0,
      "outputs": [
        {
          "output_type": "execute_result",
          "data": {
            "text/html": [
              "<div>\n",
              "<style scoped>\n",
              "    .dataframe tbody tr th:only-of-type {\n",
              "        vertical-align: middle;\n",
              "    }\n",
              "\n",
              "    .dataframe tbody tr th {\n",
              "        vertical-align: top;\n",
              "    }\n",
              "\n",
              "    .dataframe thead th {\n",
              "        text-align: right;\n",
              "    }\n",
              "</style>\n",
              "<table border=\"1\" class=\"dataframe\">\n",
              "  <thead>\n",
              "    <tr style=\"text-align: right;\">\n",
              "      <th></th>\n",
              "      <th>sepal_length</th>\n",
              "      <th>sepal_width</th>\n",
              "      <th>petal_length</th>\n",
              "      <th>petal_width</th>\n",
              "      <th>species</th>\n",
              "      <th>rounded_sepal_length</th>\n",
              "      <th>100x_sepal_length</th>\n",
              "    </tr>\n",
              "  </thead>\n",
              "  <tbody>\n",
              "    <tr>\n",
              "      <th>0</th>\n",
              "      <td>5.1</td>\n",
              "      <td>3.5</td>\n",
              "      <td>1.4</td>\n",
              "      <td>0.2</td>\n",
              "      <td>setosa</td>\n",
              "      <td>5.0</td>\n",
              "      <td>510.0</td>\n",
              "    </tr>\n",
              "    <tr>\n",
              "      <th>1</th>\n",
              "      <td>4.9</td>\n",
              "      <td>3.0</td>\n",
              "      <td>1.4</td>\n",
              "      <td>0.2</td>\n",
              "      <td>setosa</td>\n",
              "      <td>5.0</td>\n",
              "      <td>490.0</td>\n",
              "    </tr>\n",
              "    <tr>\n",
              "      <th>2</th>\n",
              "      <td>4.7</td>\n",
              "      <td>3.2</td>\n",
              "      <td>1.3</td>\n",
              "      <td>0.2</td>\n",
              "      <td>setosa</td>\n",
              "      <td>5.0</td>\n",
              "      <td>470.0</td>\n",
              "    </tr>\n",
              "    <tr>\n",
              "      <th>3</th>\n",
              "      <td>4.6</td>\n",
              "      <td>3.1</td>\n",
              "      <td>1.5</td>\n",
              "      <td>0.2</td>\n",
              "      <td>setosa</td>\n",
              "      <td>5.0</td>\n",
              "      <td>460.0</td>\n",
              "    </tr>\n",
              "    <tr>\n",
              "      <th>4</th>\n",
              "      <td>5.0</td>\n",
              "      <td>3.6</td>\n",
              "      <td>1.4</td>\n",
              "      <td>0.2</td>\n",
              "      <td>setosa</td>\n",
              "      <td>5.0</td>\n",
              "      <td>500.0</td>\n",
              "    </tr>\n",
              "  </tbody>\n",
              "</table>\n",
              "</div>"
            ],
            "text/plain": [
              "   sepal_length  sepal_width  petal_length  petal_width species  \\\n",
              "0           5.1          3.5           1.4          0.2  setosa   \n",
              "1           4.9          3.0           1.4          0.2  setosa   \n",
              "2           4.7          3.2           1.3          0.2  setosa   \n",
              "3           4.6          3.1           1.5          0.2  setosa   \n",
              "4           5.0          3.6           1.4          0.2  setosa   \n",
              "\n",
              "   rounded_sepal_length  100x_sepal_length  \n",
              "0                   5.0              510.0  \n",
              "1                   5.0              490.0  \n",
              "2                   5.0              470.0  \n",
              "3                   5.0              460.0  \n",
              "4                   5.0              500.0  "
            ]
          },
          "metadata": {
            "tags": []
          },
          "execution_count": 76
        }
      ]
    },
    {
      "metadata": {
        "id": "6clKK6eovI89",
        "colab_type": "text"
      },
      "cell_type": "markdown",
      "source": [
        "### Control Structures\n",
        "*  **For loops**\n",
        "*  While loops\n",
        "*  If/else statements\n",
        "*  Try/Except\n",
        "*  Generator expressions\n",
        "*  List Comprehensions\n",
        "*  Pattern Matching\n",
        "\n",
        "All programs eventually need a way to control the flow of execution.  This section describes techniques."
      ]
    },
    {
      "metadata": {
        "id": "kkrALu_wvRMQ",
        "colab_type": "text"
      },
      "cell_type": "markdown",
      "source": [
        "**For Loops**\n",
        "\n",
        "The for loop is one of the most fundamental control structures in Python.\n",
        "One common pattern is to use the range function to generate a range of values, then to iterate on them."
      ]
    },
    {
      "metadata": {
        "id": "abHaxRTlth7c",
        "colab_type": "code",
        "colab": {
          "autoexec": {
            "startup": false,
            "wait_interval": 0
          },
          "output_extras": [
            {}
          ],
          "base_uri": "https://localhost:8080/",
          "height": 34
        },
        "outputId": "56b5675a-3e6a-402a-e1cd-87a64a077e86",
        "executionInfo": {
          "status": "ok",
          "timestamp": 1522611875574,
          "user_tz": 420,
          "elapsed": 409,
          "user": {
            "displayName": "Noah Gift",
            "photoUrl": "//lh4.googleusercontent.com/-dTIpOULZLNo/AAAAAAAAAAI/AAAAAAAAD-E/-bTXf7FrPe0/s50-c-k-no/photo.jpg",
            "userId": "114367115509726512575"
          }
        }
      },
      "cell_type": "code",
      "source": [
        "res = range(3)\n",
        "print(list(res))"
      ],
      "execution_count": 0,
      "outputs": [
        {
          "output_type": "stream",
          "text": [
            "[0, 1, 2]\n"
          ],
          "name": "stdout"
        }
      ]
    },
    {
      "metadata": {
        "id": "tnUuKBtlvWz5",
        "colab_type": "code",
        "colab": {
          "autoexec": {
            "startup": false,
            "wait_interval": 0
          },
          "output_extras": [
            {}
          ],
          "base_uri": "https://localhost:8080/",
          "height": 68
        },
        "outputId": "4efbc3b6-b0ca-4fe6-aec7-72bd898aa805",
        "executionInfo": {
          "status": "ok",
          "timestamp": 1522611880838,
          "user_tz": 420,
          "elapsed": 319,
          "user": {
            "displayName": "Noah Gift",
            "photoUrl": "//lh4.googleusercontent.com/-dTIpOULZLNo/AAAAAAAAAAI/AAAAAAAAD-E/-bTXf7FrPe0/s50-c-k-no/photo.jpg",
            "userId": "114367115509726512575"
          }
        }
      },
      "cell_type": "code",
      "source": [
        "for i in range(3):\n",
        "    print(i)"
      ],
      "execution_count": 0,
      "outputs": [
        {
          "output_type": "stream",
          "text": [
            "0\n",
            "1\n",
            "2\n"
          ],
          "name": "stdout"
        }
      ]
    },
    {
      "metadata": {
        "id": "ANmx4hYRvdXF",
        "colab_type": "text"
      },
      "cell_type": "markdown",
      "source": [
        "**For loop over list**\n",
        "\n",
        "Another common pattern is to iterate or a list"
      ]
    },
    {
      "metadata": {
        "id": "K_XrmKB6vYHw",
        "colab_type": "code",
        "colab": {
          "autoexec": {
            "startup": false,
            "wait_interval": 0
          },
          "output_extras": [
            {}
          ],
          "base_uri": "https://localhost:8080/",
          "height": 68
        },
        "outputId": "f1c86fe9-4a56-4303-e1c5-86688f2d5127",
        "executionInfo": {
          "status": "ok",
          "timestamp": 1522611918509,
          "user_tz": 420,
          "elapsed": 327,
          "user": {
            "displayName": "Noah Gift",
            "photoUrl": "//lh4.googleusercontent.com/-dTIpOULZLNo/AAAAAAAAAAI/AAAAAAAAD-E/-bTXf7FrPe0/s50-c-k-no/photo.jpg",
            "userId": "114367115509726512575"
          }
        }
      },
      "cell_type": "code",
      "source": [
        "martial_arts = [\"Sambo\", \"Muay Thai\", \"BJJ\"]\n",
        "for martial_art in martial_arts:\n",
        "    print(f\"{martial_art} has influenced modern mixed martial arts\")"
      ],
      "execution_count": 0,
      "outputs": [
        {
          "output_type": "stream",
          "text": [
            "Sambo has influenced modern mixed martial arts\n",
            "Muay Thai has influenced modern mixed martial arts\n",
            "BJJ has influenced modern mixed martial arts\n"
          ],
          "name": "stdout"
        }
      ]
    },
    {
      "metadata": {
        "id": "McQsitwbvrIG",
        "colab_type": "text"
      },
      "cell_type": "markdown",
      "source": [
        "**While Loops**\n",
        "\n",
        "A While Loop is often used as a way of looping until a condition is met. A very common use of a while loop is to create an infinite loop. In the example below a while loop is used to filter a function that returns 1 of 2 types of attacks."
      ]
    },
    {
      "metadata": {
        "id": "XA-2E-uNvhUK",
        "colab_type": "code",
        "colab": {
          "autoexec": {
            "startup": false,
            "wait_interval": 0
          },
          "output_extras": [
            {}
          ],
          "base_uri": "https://localhost:8080/",
          "height": 85
        },
        "outputId": "9d58b70e-7bda-49d3-ebfc-f750b1b79fc5",
        "executionInfo": {
          "status": "ok",
          "timestamp": 1522611977375,
          "user_tz": 420,
          "elapsed": 313,
          "user": {
            "displayName": "Noah Gift",
            "photoUrl": "//lh4.googleusercontent.com/-dTIpOULZLNo/AAAAAAAAAAI/AAAAAAAAD-E/-bTXf7FrPe0/s50-c-k-no/photo.jpg",
            "userId": "114367115509726512575"
          }
        }
      },
      "cell_type": "code",
      "source": [
        "def attacks():\n",
        "    list_of_attacks = [\"lower_body\", \"lower_body\",\"upper_body\"]\n",
        "    print(f\"There are a total of {len(list_of_attacks)} attacks coming!\")\n",
        "    for attack in list_of_attacks:\n",
        "        yield attack\n",
        "attack = attacks()\n",
        "count = 0\n",
        "while next(attack) == \"lower_body\":\n",
        "    count +=1\n",
        "    print(f\"crossing legs to prevent attack #{count}\")\n",
        "else:\n",
        "    count +=1\n",
        "    print(f\"This is not a lower body attack, I will cross my arms for #{count}\")"
      ],
      "execution_count": 0,
      "outputs": [
        {
          "output_type": "stream",
          "text": [
            "There are a total of 3 attacks coming!\n",
            "crossing legs to prevent attack #1\n",
            "crossing legs to prevent attack #2\n",
            "This is not a lower body attack, I will cross my arms for #3\n"
          ],
          "name": "stdout"
        }
      ]
    },
    {
      "metadata": {
        "id": "88ORBTOPvyKy",
        "colab_type": "text"
      },
      "cell_type": "markdown",
      "source": [
        "**If/Else**\n",
        "\n",
        "If/Else statements are a common way to branch between decisions. In the example below if/elif are used to match a branch. If there are no matches, the last \"else\" statement is run."
      ]
    },
    {
      "metadata": {
        "id": "4rPN8VYgvvsL",
        "colab_type": "code",
        "colab": {
          "autoexec": {
            "startup": false,
            "wait_interval": 0
          }
        }
      },
      "cell_type": "code",
      "source": [
        "def recommended_attack(position):\n",
        "    \"\"\"Recommends an attack based on the position\"\"\"\n",
        "    if position == \"full_guard\":\n",
        "        print(f\"Try an armbar attack\")\n",
        "    elif position == \"half_guard\":\n",
        "        print(f\"Try a kimura attack\")\n",
        "    elif position == \"full_mount\":\n",
        "        print(f\"Try an arm triangle\")\n",
        "    else:\n",
        "        print(f\"You're on your own, there is no suggestion for an attack\")"
      ],
      "execution_count": 0,
      "outputs": []
    },
    {
      "metadata": {
        "id": "liJPIg7dv4kq",
        "colab_type": "code",
        "colab": {
          "autoexec": {
            "startup": false,
            "wait_interval": 0
          },
          "output_extras": [
            {}
          ],
          "base_uri": "https://localhost:8080/",
          "height": 34
        },
        "outputId": "deef69d6-963b-406b-b829-6e8fdc9c6108",
        "executionInfo": {
          "status": "ok",
          "timestamp": 1522612043875,
          "user_tz": 420,
          "elapsed": 315,
          "user": {
            "displayName": "Noah Gift",
            "photoUrl": "//lh4.googleusercontent.com/-dTIpOULZLNo/AAAAAAAAAAI/AAAAAAAAD-E/-bTXf7FrPe0/s50-c-k-no/photo.jpg",
            "userId": "114367115509726512575"
          }
        }
      },
      "cell_type": "code",
      "source": [
        "recommended_attack(\"full_guard\")"
      ],
      "execution_count": 0,
      "outputs": [
        {
          "output_type": "stream",
          "text": [
            "Try an armbar attack\n"
          ],
          "name": "stdout"
        }
      ]
    },
    {
      "metadata": {
        "id": "7d6qc-4yv_7F",
        "colab_type": "code",
        "colab": {
          "autoexec": {
            "startup": false,
            "wait_interval": 0
          },
          "output_extras": [
            {}
          ],
          "base_uri": "https://localhost:8080/",
          "height": 34
        },
        "outputId": "651231d9-1116-4d14-e031-88546e1d1e5d",
        "executionInfo": {
          "status": "ok",
          "timestamp": 1522612049433,
          "user_tz": 420,
          "elapsed": 322,
          "user": {
            "displayName": "Noah Gift",
            "photoUrl": "//lh4.googleusercontent.com/-dTIpOULZLNo/AAAAAAAAAAI/AAAAAAAAD-E/-bTXf7FrPe0/s50-c-k-no/photo.jpg",
            "userId": "114367115509726512575"
          }
        }
      },
      "cell_type": "code",
      "source": [
        "recommended_attack(\"z_guard\")"
      ],
      "execution_count": 0,
      "outputs": [
        {
          "output_type": "stream",
          "text": [
            "You're on your own, there is no suggestion for an attack\n"
          ],
          "name": "stdout"
        }
      ]
    },
    {
      "metadata": {
        "id": "22pQ51hdwE4w",
        "colab_type": "text"
      },
      "cell_type": "markdown",
      "source": [
        "**Generator Expression**\n",
        "\n",
        "Generator Expressions build further on the concept of yield by allowing for the lazy evaluation of a sequence. The benefit of generator expressions is that nothing is evaluated or brought into memory until it is actually evaluated.\n",
        "\n",
        "This is why the example below can be operating on an infi-nite sequence of random attacks that are generated. In the generator pipeline the lower-case attack, such as \"arm_triangle\" is converted to \"ARM_TRIANGLE\", next the underscore is remove \"ARM TRIANGLE\"."
      ]
    },
    {
      "metadata": {
        "id": "5AIcGpUgwBR0",
        "colab_type": "code",
        "colab": {
          "autoexec": {
            "startup": false,
            "wait_interval": 0
          }
        }
      },
      "cell_type": "code",
      "source": [
        "def lazy_return_random_attacks():\n",
        "    \"\"\"Yield attacks each time\"\"\"\n",
        "    import random\n",
        "    attacks = {\"kimura\": \"upper_body\",\n",
        "           \"straight_ankle_lock\":\"lower_body\", \n",
        "           \"arm_triangle\":\"upper_body\",\n",
        "            \"keylock\": \"upper_body\",\n",
        "            \"knee_bar\": \"lower_body\"}\n",
        "    while True:\n",
        "        random_attack = random.choices(list(attacks.keys()))\n",
        "        yield random_attack\n",
        "        \n",
        "#Make all attacks appear as Upper Case\n",
        "upper_case_attacks = (attack.pop().upper() for attack in lazy_return_random_attacks())"
      ],
      "execution_count": 0,
      "outputs": []
    },
    {
      "metadata": {
        "id": "eaWWG7N8wNHd",
        "colab_type": "code",
        "colab": {
          "autoexec": {
            "startup": false,
            "wait_interval": 0
          },
          "output_extras": [
            {}
          ],
          "base_uri": "https://localhost:8080/",
          "height": 34
        },
        "outputId": "14c67630-4fbd-4c9e-a7ae-1341f94f5910",
        "executionInfo": {
          "status": "ok",
          "timestamp": 1522612105426,
          "user_tz": 420,
          "elapsed": 313,
          "user": {
            "displayName": "Noah Gift",
            "photoUrl": "//lh4.googleusercontent.com/-dTIpOULZLNo/AAAAAAAAAAI/AAAAAAAAD-E/-bTXf7FrPe0/s50-c-k-no/photo.jpg",
            "userId": "114367115509726512575"
          }
        }
      },
      "cell_type": "code",
      "source": [
        "next(upper_case_attacks)"
      ],
      "execution_count": 0,
      "outputs": [
        {
          "output_type": "execute_result",
          "data": {
            "text/plain": [
              "'KEYLOCK'"
            ]
          },
          "metadata": {
            "tags": []
          },
          "execution_count": 85
        }
      ]
    },
    {
      "metadata": {
        "id": "NPKsH9dPwO89",
        "colab_type": "code",
        "colab": {
          "autoexec": {
            "startup": false,
            "wait_interval": 0
          }
        }
      },
      "cell_type": "code",
      "source": [
        "## Generator Pipeline:  One expression chains into the next\n",
        "#Make all attacks appear as Upper Case\n",
        "upper_case_attacks = (attack.pop().upper() for attack in lazy_return_random_attacks())\n",
        "#Remove the underscore\n",
        "remove_underscore = (attack.split(\"_\") for attack in upper_case_attacks)\n",
        "#Create a new phrase \n",
        "new_attack_phrase = (\" \".join(phrase) for phrase in remove_underscore)"
      ],
      "execution_count": 0,
      "outputs": []
    },
    {
      "metadata": {
        "id": "xb4vf2URwRnk",
        "colab_type": "code",
        "colab": {
          "autoexec": {
            "startup": false,
            "wait_interval": 0
          },
          "output_extras": [
            {}
          ],
          "base_uri": "https://localhost:8080/",
          "height": 34
        },
        "outputId": "9ea27959-c2e9-468c-a829-06284a4674ad",
        "executionInfo": {
          "status": "ok",
          "timestamp": 1522612133606,
          "user_tz": 420,
          "elapsed": 348,
          "user": {
            "displayName": "Noah Gift",
            "photoUrl": "//lh4.googleusercontent.com/-dTIpOULZLNo/AAAAAAAAAAI/AAAAAAAAD-E/-bTXf7FrPe0/s50-c-k-no/photo.jpg",
            "userId": "114367115509726512575"
          }
        }
      },
      "cell_type": "code",
      "source": [
        "next(new_attack_phrase)"
      ],
      "execution_count": 0,
      "outputs": [
        {
          "output_type": "execute_result",
          "data": {
            "text/plain": [
              "'KEYLOCK'"
            ]
          },
          "metadata": {
            "tags": []
          },
          "execution_count": 87
        }
      ]
    },
    {
      "metadata": {
        "id": "OA9PLTTFwV00",
        "colab_type": "code",
        "colab": {
          "autoexec": {
            "startup": false,
            "wait_interval": 0
          },
          "output_extras": [
            {}
          ],
          "base_uri": "https://localhost:8080/",
          "height": 187
        },
        "outputId": "1ea2807a-9cd1-4392-9728-de02f7ef5e95",
        "executionInfo": {
          "status": "ok",
          "timestamp": 1522612139875,
          "user_tz": 420,
          "elapsed": 320,
          "user": {
            "displayName": "Noah Gift",
            "photoUrl": "//lh4.googleusercontent.com/-dTIpOULZLNo/AAAAAAAAAAI/AAAAAAAAD-E/-bTXf7FrPe0/s50-c-k-no/photo.jpg",
            "userId": "114367115509726512575"
          }
        }
      },
      "cell_type": "code",
      "source": [
        "for number in range(10):\n",
        "    print(next(new_attack_phrase))"
      ],
      "execution_count": 0,
      "outputs": [
        {
          "output_type": "stream",
          "text": [
            "KNEE BAR\n",
            "KIMURA\n",
            "KEYLOCK\n",
            "KNEE BAR\n",
            "KNEE BAR\n",
            "STRAIGHT ANKLE LOCK\n",
            "KNEE BAR\n",
            "ARM TRIANGLE\n",
            "ARM TRIANGLE\n",
            "KIMURA\n"
          ],
          "name": "stdout"
        }
      ]
    },
    {
      "metadata": {
        "id": "bBqchsBXwaiD",
        "colab_type": "text"
      },
      "cell_type": "markdown",
      "source": [
        "**List Comprehension**\n",
        "\n",
        "A list comprehension is very similar to a generator expression, but it evaluated in memory. Additionally, it is optimized C code that be a substantial improvement over a traditional for loop."
      ]
    },
    {
      "metadata": {
        "id": "X_pm3eyqwXXM",
        "colab_type": "code",
        "colab": {
          "autoexec": {
            "startup": false,
            "wait_interval": 0
          }
        }
      },
      "cell_type": "code",
      "source": [
        "martial_arts = [\"Sambo\", \"Muay Thai\", \"BJJ\"]\n",
        "new_phrases = [\"\".join(f\"Mixed Martial Arts is influenced by {martial_art}\") for martial_art in martial_arts]"
      ],
      "execution_count": 0,
      "outputs": []
    },
    {
      "metadata": {
        "id": "lVhLoAQ2wiHP",
        "colab_type": "code",
        "colab": {
          "autoexec": {
            "startup": false,
            "wait_interval": 0
          },
          "output_extras": [
            {}
          ],
          "base_uri": "https://localhost:8080/",
          "height": 54
        },
        "outputId": "b1e3f595-613b-42f3-d55c-09c399adcbc8",
        "executionInfo": {
          "status": "ok",
          "timestamp": 1522612189896,
          "user_tz": 420,
          "elapsed": 322,
          "user": {
            "displayName": "Noah Gift",
            "photoUrl": "//lh4.googleusercontent.com/-dTIpOULZLNo/AAAAAAAAAAI/AAAAAAAAD-E/-bTXf7FrPe0/s50-c-k-no/photo.jpg",
            "userId": "114367115509726512575"
          }
        }
      },
      "cell_type": "code",
      "source": [
        "print(new_phrases)"
      ],
      "execution_count": 0,
      "outputs": [
        {
          "output_type": "stream",
          "text": [
            "['Mixed Martial Arts is influenced by Sambo', 'Mixed Martial Arts is influenced by Muay Thai', 'Mixed Martial Arts is influenced by BJJ']\n"
          ],
          "name": "stdout"
        }
      ]
    },
    {
      "metadata": {
        "id": "9wWsG9Cdwme0",
        "colab_type": "text"
      },
      "cell_type": "markdown",
      "source": [
        "**Try/Except**\n",
        "\n",
        "There is an expression in sports, \"Always be prepared to do your best on your worst day\". Try/Except statements are similar. It is always a good idea to think about what happens when something goes wrong in code that is written. Try/Except blocks allow for this."
      ]
    },
    {
      "metadata": {
        "id": "G94tPojywjkt",
        "colab_type": "code",
        "colab": {
          "autoexec": {
            "startup": false,
            "wait_interval": 0
          },
          "output_extras": [
            {}
          ],
          "base_uri": "https://localhost:8080/",
          "height": 85
        },
        "outputId": "57fd3a09-dd9d-4f74-d686-cae504bc94e6",
        "executionInfo": {
          "status": "ok",
          "timestamp": 1522612255353,
          "user_tz": 420,
          "elapsed": 335,
          "user": {
            "displayName": "Noah Gift",
            "photoUrl": "//lh4.googleusercontent.com/-dTIpOULZLNo/AAAAAAAAAAI/AAAAAAAAD-E/-bTXf7FrPe0/s50-c-k-no/photo.jpg",
            "userId": "114367115509726512575"
          }
        }
      },
      "cell_type": "code",
      "source": [
        "tournaments = [\"NAGA\", \"IBJJF\", \"EBI\"]\n",
        "while True:\n",
        "    try:\n",
        "        tournament = tournaments.pop()\n",
        "        print(f\"I would like to compete in the {tournament} tournament.\")\n",
        "    except IndexError:\n",
        "        print(\"There are no more tournaments\")\n",
        "        break"
      ],
      "execution_count": 0,
      "outputs": [
        {
          "output_type": "stream",
          "text": [
            "I would like to compete in the EBI tournament.\n",
            "I would like to compete in the IBJJF tournament.\n",
            "I would like to compete in the NAGA tournament.\n",
            "There are no more tournaments\n"
          ],
          "name": "stdout"
        }
      ]
    },
    {
      "metadata": {
        "id": "IOrXSbsBmER1",
        "colab_type": "text"
      },
      "cell_type": "markdown",
      "source": [
        "#### Lambda\n",
        "\n",
        "Generally considered to be unnecessary.  A Python lambda is an inline python and it can often lead to confusing code.  \n",
        "\n"
      ]
    },
    {
      "metadata": {
        "id": "svG3pAATmQgN",
        "colab_type": "code",
        "colab": {
          "autoexec": {
            "startup": false,
            "wait_interval": 0
          },
          "output_extras": [
            {}
          ],
          "base_uri": "https://localhost:8080/",
          "height": 34
        },
        "outputId": "5f9d8c42-c31a-4a56-e666-317b570543a5",
        "executionInfo": {
          "status": "ok",
          "timestamp": 1522626844918,
          "user_tz": 420,
          "elapsed": 347,
          "user": {
            "displayName": "Noah Gift",
            "photoUrl": "//lh4.googleusercontent.com/-dTIpOULZLNo/AAAAAAAAAAI/AAAAAAAAD-E/-bTXf7FrPe0/s50-c-k-no/photo.jpg",
            "userId": "114367115509726512575"
          }
        }
      },
      "cell_type": "code",
      "source": [
        "func = lambda x: x**2\n",
        "func(2)"
      ],
      "execution_count": 0,
      "outputs": [
        {
          "output_type": "execute_result",
          "data": {
            "text/plain": [
              "4"
            ]
          },
          "metadata": {
            "tags": []
          },
          "execution_count": 3
        }
      ]
    },
    {
      "metadata": {
        "id": "FYAyqtzToqv1",
        "colab_type": "code",
        "colab": {
          "autoexec": {
            "startup": false,
            "wait_interval": 0
          },
          "output_extras": [
            {}
          ],
          "base_uri": "https://localhost:8080/",
          "height": 34
        },
        "outputId": "d868417c-b71b-4625-b4c9-a820e2d8e014",
        "executionInfo": {
          "status": "ok",
          "timestamp": 1522626965235,
          "user_tz": 420,
          "elapsed": 339,
          "user": {
            "displayName": "Noah Gift",
            "photoUrl": "//lh4.googleusercontent.com/-dTIpOULZLNo/AAAAAAAAAAI/AAAAAAAAD-E/-bTXf7FrPe0/s50-c-k-no/photo.jpg",
            "userId": "114367115509726512575"
          }
        }
      },
      "cell_type": "code",
      "source": [
        "def regular_func(x):\n",
        "  return x**2\n",
        "\n",
        "regular_func(2)"
      ],
      "execution_count": 0,
      "outputs": [
        {
          "output_type": "execute_result",
          "data": {
            "text/plain": [
              "4"
            ]
          },
          "metadata": {
            "tags": []
          },
          "execution_count": 5
        }
      ]
    }
  ]
}
